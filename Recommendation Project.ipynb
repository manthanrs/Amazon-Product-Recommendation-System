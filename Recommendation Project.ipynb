{
 "cells": [
  {
   "cell_type": "markdown",
   "id": "e35ecf3d-c4ba-4ea4-a447-77d7475c0a1a",
   "metadata": {},
   "source": [
    "## Context:\n",
    "\n",
    "Today, information is growing exponentially with volume, velocity and variety throughout the globe. This has lead to information overload, and too many choices for the consumer of any business. It represents a real dilemma for these consumers and they often turn to denial. Recommender Systems are one of the best tools that help recommending products to consumers while they are browsing online. Providing personalized recommendations which is most relevant for the user is what's most likely to keep them engaged and help business.\n",
    "\n",
    "E-commerce websites like Amazon, Walmart, Target and Etsy use different recommendation models to provide personalized suggestions to different users. These companies spend millions of dollars to come up with algorithmic techniques that can provide personalized recommendations to their users.\n",
    "\n",
    "Amazon, for example, is well-known for its accurate selection of recommendations in its online site. Amazon's recommendation system is capable of intelligently analyzing and predicting customers' shopping preferences in order to offer them a list of recommended products. Amazon's recommendation algorithm is therefore a key element in using AI to improve the personalization of its website. For example, one of the baseline recommendation models that Amazon uses is item-to-item collaborative filtering, which scales to massive data sets and produces high-quality recommendations in real-time.\n",
    "\n",
    "## Objective:\n",
    "You are a Data Science Manager at Amazon, and have been given the task of building a recommendation system to recommend products to customers based on their previous ratings for other products. You have a collection of labeled data of Amazon reviews of products. The goal is to extract meaningful insights from the data and build a recommendation system that helps in recommending products to online consumers.\n",
    "\n",
    "## Dataset:\n",
    "The Amazon dataset contains the following attributes:\n",
    "\n",
    "* userId: Every user identified with a unique id\n",
    "* productId: Every product identified with a unique id\n",
    "* Rating: The rating of the corresponding product by the corresponding user\n",
    "* timestamp: Time of the rating. We will not use this column to solve the current problem"
   ]
  },
  {
   "cell_type": "code",
   "execution_count": 1,
   "id": "d3187520-cdb6-4213-aaaa-c175fafc788f",
   "metadata": {},
   "outputs": [],
   "source": [
    "# Basic python libraries\n",
    "import numpy as np\n",
    "import pandas as pd\n",
    "\n",
    "# Python libraries for data visualization\n",
    "import matplotlib.pyplot as plt\n",
    "import seaborn as sns\n",
    "\n",
    "# For implementing matrix factorization based recommendation system\n",
    "from surprise.prediction_algorithms.matrix_factorization import SVD\n",
    "from collections import defaultdict\n",
    "\n",
    "# For implementing cross validation\n",
    "from surprise.model_selection import KFold\n",
    "\n",
    "import warnings\n",
    "warnings.filterwarnings('ignore')"
   ]
  },
  {
   "cell_type": "markdown",
   "id": "a448af7d-14da-4f92-82e6-d933b44420a5",
   "metadata": {},
   "source": [
    "## Loading the data"
   ]
  },
  {
   "cell_type": "code",
   "execution_count": 2,
   "id": "617577ab-be92-4550-a756-c978c1620529",
   "metadata": {},
   "outputs": [],
   "source": [
    "# Reading the dataset\n",
    "column_names = ['userId', 'productId', 'Rating', 'timestamp']\n",
    "data = pd.read_csv('ratings_Electronics.csv', names = column_names, header = None)"
   ]
  },
  {
   "cell_type": "code",
   "execution_count": 3,
   "id": "77a23cf8-bef9-486d-bf58-7f330a992a9c",
   "metadata": {},
   "outputs": [
    {
     "data": {
      "text/html": [
       "<div>\n",
       "<style scoped>\n",
       "    .dataframe tbody tr th:only-of-type {\n",
       "        vertical-align: middle;\n",
       "    }\n",
       "\n",
       "    .dataframe tbody tr th {\n",
       "        vertical-align: top;\n",
       "    }\n",
       "\n",
       "    .dataframe thead th {\n",
       "        text-align: right;\n",
       "    }\n",
       "</style>\n",
       "<table border=\"1\" class=\"dataframe\">\n",
       "  <thead>\n",
       "    <tr style=\"text-align: right;\">\n",
       "      <th></th>\n",
       "      <th>userId</th>\n",
       "      <th>productId</th>\n",
       "      <th>Rating</th>\n",
       "      <th>timestamp</th>\n",
       "    </tr>\n",
       "  </thead>\n",
       "  <tbody>\n",
       "    <tr>\n",
       "      <th>0</th>\n",
       "      <td>AKM1MP6P0OYPR</td>\n",
       "      <td>0132793040</td>\n",
       "      <td>5.0</td>\n",
       "      <td>1365811200</td>\n",
       "    </tr>\n",
       "    <tr>\n",
       "      <th>1</th>\n",
       "      <td>A2CX7LUOHB2NDG</td>\n",
       "      <td>0321732944</td>\n",
       "      <td>5.0</td>\n",
       "      <td>1341100800</td>\n",
       "    </tr>\n",
       "    <tr>\n",
       "      <th>2</th>\n",
       "      <td>A2NWSAGRHCP8N5</td>\n",
       "      <td>0439886341</td>\n",
       "      <td>1.0</td>\n",
       "      <td>1367193600</td>\n",
       "    </tr>\n",
       "    <tr>\n",
       "      <th>3</th>\n",
       "      <td>A2WNBOD3WNDNKT</td>\n",
       "      <td>0439886341</td>\n",
       "      <td>3.0</td>\n",
       "      <td>1374451200</td>\n",
       "    </tr>\n",
       "    <tr>\n",
       "      <th>4</th>\n",
       "      <td>A1GI0U4ZRJA8WN</td>\n",
       "      <td>0439886341</td>\n",
       "      <td>1.0</td>\n",
       "      <td>1334707200</td>\n",
       "    </tr>\n",
       "  </tbody>\n",
       "</table>\n",
       "</div>"
      ],
      "text/plain": [
       "           userId   productId  Rating   timestamp\n",
       "0   AKM1MP6P0OYPR  0132793040     5.0  1365811200\n",
       "1  A2CX7LUOHB2NDG  0321732944     5.0  1341100800\n",
       "2  A2NWSAGRHCP8N5  0439886341     1.0  1367193600\n",
       "3  A2WNBOD3WNDNKT  0439886341     3.0  1374451200\n",
       "4  A1GI0U4ZRJA8WN  0439886341     1.0  1334707200"
      ]
     },
     "execution_count": 3,
     "metadata": {},
     "output_type": "execute_result"
    }
   ],
   "source": [
    "data.head()"
   ]
  },
  {
   "cell_type": "code",
   "execution_count": 4,
   "id": "7afa5a59-6ab7-4a6f-bbcb-e9ba45fd57a4",
   "metadata": {},
   "outputs": [
    {
     "name": "stdout",
     "output_type": "stream",
     "text": [
      "<class 'pandas.core.frame.DataFrame'>\n",
      "RangeIndex: 7824482 entries, 0 to 7824481\n",
      "Data columns (total 4 columns):\n",
      " #   Column     Non-Null Count    Dtype  \n",
      "---  ------     --------------    -----  \n",
      " 0   userId     7824482 non-null  object \n",
      " 1   productId  7824482 non-null  object \n",
      " 2   Rating     7824482 non-null  float64\n",
      " 3   timestamp  7824482 non-null  int64  \n",
      "dtypes: float64(1), int64(1), object(2)\n",
      "memory usage: 238.8+ MB\n"
     ]
    }
   ],
   "source": [
    "data.info(verbose=True, show_counts=True)"
   ]
  },
  {
   "cell_type": "markdown",
   "id": "d05cf76d-3795-415f-b85a-29981aeb33ea",
   "metadata": {},
   "source": [
    "**Observations:**\n",
    "\n",
    "* The rating data contains 78,24,482 observations and 4 columns.\n",
    "* The 'Rating' and 'timestamp' columns are both of numeric data type.\n",
    "* The **productId** & **userId**column has the data type **object**. We'll convert it to **string** format. As we will be using this column in subsequent steps."
   ]
  },
  {
   "cell_type": "code",
   "execution_count": 5,
   "id": "69960dac-1ce9-464d-899f-398639dbb123",
   "metadata": {},
   "outputs": [],
   "source": [
    "# Many userId and productId contains combination of letters & digits. So we will convert the column to type 'string'\n",
    "data['userId']= data['userId'].astype(str)\n",
    "data['productId']= data['productId'].astype(str)"
   ]
  },
  {
   "cell_type": "code",
   "execution_count": 6,
   "id": "12fa2282-8aad-4e6b-94fe-1e8a553a3c3e",
   "metadata": {},
   "outputs": [
    {
     "data": {
      "image/png": "[encoded data removed]",
      "text/plain": [
       "<Figure size 1200x400 with 1 Axes>"
      ]
     },
     "metadata": {},
     "output_type": "display_data"
    }
   ],
   "source": [
    "# Distribution of ratings\n",
    "plt.figure(figsize = (12, 4))\n",
    "sns.countplot(x=\"Rating\", data=data)\n",
    "\n",
    "plt.tick_params(labelsize = 10)\n",
    "plt.title(\"Distribution of Ratings \", fontsize = 10)\n",
    "plt.xlabel(\"Ratings\", fontsize = 10)\n",
    "plt.ylabel(\"Number of Ratings\", fontsize = 10)\n",
    "plt.show()"
   ]
  },
  {
   "cell_type": "markdown",
   "id": "d0a0e2fa-1928-4780-80f8-4f23372aa56c",
   "metadata": {},
   "source": [
    "### Observations:\n",
    "\n",
    "- The rating **'5'** has the highest count of ratings and dominates the distribution.  \n",
    "- Ratings **'1'**, **'3'**, and **'4'** have significantly fewer observations compared to **'5'**.  \n",
    "- Rating **'2'** has the least number of ratings.  "
   ]
  },
  {
   "cell_type": "code",
   "execution_count": 7,
   "id": "09b6ccb0-17fc-4f12-8e41-a8d108b8a6a7",
   "metadata": {},
   "outputs": [
    {
     "data": {
      "text/plain": [
       "4201696"
      ]
     },
     "execution_count": 7,
     "metadata": {},
     "output_type": "execute_result"
    }
   ],
   "source": [
    "# Finding the number of unique users\n",
    "data['userId'].nunique()"
   ]
  },
  {
   "cell_type": "code",
   "execution_count": 8,
   "id": "38f07922-fc2d-44b4-97f7-8b989db03318",
   "metadata": {},
   "outputs": [
    {
     "data": {
      "text/plain": [
       "476002"
      ]
     },
     "execution_count": 8,
     "metadata": {},
     "output_type": "execute_result"
    }
   ],
   "source": [
    "# Finding the number of unique products\n",
    "data['productId'].nunique()"
   ]
  },
  {
   "cell_type": "markdown",
   "id": "51b70f47-13d0-40e6-bd7a-135d78030d2e",
   "metadata": {},
   "source": [
    "## Observations:\n",
    "\n",
    "* There are 476002 products in the dataset.\n",
    "* As per the number of unique users and products, there is a possibility of 476002 * 4201696 = 20,00,01,56,99,392 ratings in the dataset. But we only have 7824482 ratings, i.e., not every user has rated every product in the dataset. So, we can build a recommendation system to recommend products to users which they have not interacted with."
   ]
  },
  {
   "cell_type": "code",
   "execution_count": 9,
   "id": "49acdc32-8f18-45d8-968a-f5f75b543a42",
   "metadata": {},
   "outputs": [
    {
     "data": {
      "text/html": [
       "<div>\n",
       "<style scoped>\n",
       "    .dataframe tbody tr th:only-of-type {\n",
       "        vertical-align: middle;\n",
       "    }\n",
       "\n",
       "    .dataframe tbody tr th {\n",
       "        vertical-align: top;\n",
       "    }\n",
       "\n",
       "    .dataframe thead th {\n",
       "        text-align: right;\n",
       "    }\n",
       "</style>\n",
       "<table border=\"1\" class=\"dataframe\">\n",
       "  <thead>\n",
       "    <tr style=\"text-align: right;\">\n",
       "      <th></th>\n",
       "      <th></th>\n",
       "      <th>Rating</th>\n",
       "      <th>timestamp</th>\n",
       "    </tr>\n",
       "    <tr>\n",
       "      <th>userId</th>\n",
       "      <th>productId</th>\n",
       "      <th></th>\n",
       "      <th></th>\n",
       "    </tr>\n",
       "  </thead>\n",
       "  <tbody>\n",
       "    <tr>\n",
       "      <th>A00000262KYZUE4J55XGL</th>\n",
       "      <th>B003UYU16G</th>\n",
       "      <td>1</td>\n",
       "      <td>1</td>\n",
       "    </tr>\n",
       "    <tr>\n",
       "      <th rowspan=\"2\" valign=\"top\">A000063614T1OE0BUSKUT</th>\n",
       "      <th>B00419ZT3E</th>\n",
       "      <td>1</td>\n",
       "      <td>1</td>\n",
       "    </tr>\n",
       "    <tr>\n",
       "      <th>B00432ZSHG</th>\n",
       "      <td>1</td>\n",
       "      <td>1</td>\n",
       "    </tr>\n",
       "    <tr>\n",
       "      <th>A00009182QVLSWIGHLS1B</th>\n",
       "      <th>B009SXR7WE</th>\n",
       "      <td>1</td>\n",
       "      <td>1</td>\n",
       "    </tr>\n",
       "    <tr>\n",
       "      <th>A00009661LC9LQPGKJ24G</th>\n",
       "      <th>B004GWQBWY</th>\n",
       "      <td>1</td>\n",
       "      <td>1</td>\n",
       "    </tr>\n",
       "    <tr>\n",
       "      <th>...</th>\n",
       "      <th>...</th>\n",
       "      <td>...</td>\n",
       "      <td>...</td>\n",
       "    </tr>\n",
       "    <tr>\n",
       "      <th rowspan=\"2\" valign=\"top\">AZZZRS1YZ8HVP</th>\n",
       "      <th>B001CJOLBW</th>\n",
       "      <td>1</td>\n",
       "      <td>1</td>\n",
       "    </tr>\n",
       "    <tr>\n",
       "      <th>B00DR0PDNE</th>\n",
       "      <td>1</td>\n",
       "      <td>1</td>\n",
       "    </tr>\n",
       "    <tr>\n",
       "      <th>AZZZSIK7NFFVP</th>\n",
       "      <th>B009FU8BR0</th>\n",
       "      <td>1</td>\n",
       "      <td>1</td>\n",
       "    </tr>\n",
       "    <tr>\n",
       "      <th>AZZZWXXUPZ1F3</th>\n",
       "      <th>B0016CFZQ0</th>\n",
       "      <td>1</td>\n",
       "      <td>1</td>\n",
       "    </tr>\n",
       "    <tr>\n",
       "      <th>AZZZY1W55XHZR</th>\n",
       "      <th>B001GS8G1U</th>\n",
       "      <td>1</td>\n",
       "      <td>1</td>\n",
       "    </tr>\n",
       "  </tbody>\n",
       "</table>\n",
       "<p>7824482 rows × 2 columns</p>\n",
       "</div>"
      ],
      "text/plain": [
       "                                  Rating  timestamp\n",
       "userId                productId                    \n",
       "A00000262KYZUE4J55XGL B003UYU16G       1          1\n",
       "A000063614T1OE0BUSKUT B00419ZT3E       1          1\n",
       "                      B00432ZSHG       1          1\n",
       "A00009182QVLSWIGHLS1B B009SXR7WE       1          1\n",
       "A00009661LC9LQPGKJ24G B004GWQBWY       1          1\n",
       "...                                  ...        ...\n",
       "AZZZRS1YZ8HVP         B001CJOLBW       1          1\n",
       "                      B00DR0PDNE       1          1\n",
       "AZZZSIK7NFFVP         B009FU8BR0       1          1\n",
       "AZZZWXXUPZ1F3         B0016CFZQ0       1          1\n",
       "AZZZY1W55XHZR         B001GS8G1U       1          1\n",
       "\n",
       "[7824482 rows x 2 columns]"
      ]
     },
     "execution_count": 9,
     "metadata": {},
     "output_type": "execute_result"
    }
   ],
   "source": [
    "data.groupby(['userId', 'productId']).count()"
   ]
  },
  {
   "cell_type": "code",
   "execution_count": 10,
   "id": "e55eaa8a-faf6-44eb-be0d-f26434021a87",
   "metadata": {},
   "outputs": [
    {
     "data": {
      "text/plain": [
       "7824482"
      ]
     },
     "execution_count": 10,
     "metadata": {},
     "output_type": "execute_result"
    }
   ],
   "source": [
    "data.groupby(['userId', 'productId']).count()['Rating'].sum()"
   ]
  },
  {
   "cell_type": "markdown",
   "id": "c1aeba79-1253-4b77-b1e7-c3a73ae331ec",
   "metadata": {},
   "source": [
    "## Observation:\n",
    "\n",
    "* The sum is equal to the total number of observations, which implies that there is only one interaction between a book and a user."
   ]
  },
  {
   "cell_type": "markdown",
   "id": "9d26492f-c125-415c-8ac1-2d1765c131f8",
   "metadata": {},
   "source": [
    "## Which product has the highest number of reviews / ratings in the dataset?"
   ]
  },
  {
   "cell_type": "code",
   "execution_count": 11,
   "id": "ce07b4e9-49cc-41ef-a595-d4a35432fd8c",
   "metadata": {},
   "outputs": [
    {
     "data": {
      "text/plain": [
       "productId\n",
       "B0074BW614    18244\n",
       "B00DR0PDNE    16454\n",
       "B007WTAJTO    14172\n",
       "B0019EHU8G    12285\n",
       "B006GWO5WK    12226\n",
       "              ...  \n",
       "B004WL91KI        1\n",
       "B004WL9FK4        1\n",
       "B004WL9Q2Q        1\n",
       "B004WL9R8O        1\n",
       "BT008V9J9U        1\n",
       "Name: count, Length: 476002, dtype: int64"
      ]
     },
     "execution_count": 11,
     "metadata": {},
     "output_type": "execute_result"
    }
   ],
   "source": [
    "data['productId'].value_counts()"
   ]
  },
  {
   "cell_type": "markdown",
   "id": "a315ebd3-6c22-472b-9245-828fdd91c912",
   "metadata": {},
   "source": [
    "## Observations:\n",
    "\n",
    "* The book with productId: B0074BW614 has been interacted by most users (18244).\n",
    "\n",
    "* But still, there is a possibility of 4201696-18244 = 41,83,452 more interactions as we have 41,83,452 unique users in our datasets. For those 41,83,452 remaining users, we can build a recommendation system to predict who is most likely to interact with this product.\n",
    "\n",
    "* Also, out of these 18244 interactions, we need to consider the distribution of ratings as well to check whether this product is the most liked or most disliked product."
   ]
  },
  {
   "cell_type": "code",
   "execution_count": 12,
   "id": "b9d6eaa3-e36a-4440-9a26-5a729e981feb",
   "metadata": {},
   "outputs": [
    {
     "data": {
      "image/png": "[encoded data removed]",
      "text/plain": [
       "<Figure size 700x700 with 1 Axes>"
      ]
     },
     "metadata": {},
     "output_type": "display_data"
    }
   ],
   "source": [
    "# Plotting distributions of ratings for the most interacted product\n",
    "\n",
    "plt.figure(figsize=(7,7))\n",
    "\n",
    "data[data['productId'] == 'B0074BW614']['Rating'].value_counts().plot(kind='bar')\n",
    "\n",
    "plt.xlabel('Rating')\n",
    "\n",
    "plt.ylabel('Count')\n",
    "plt.show()"
   ]
  },
  {
   "cell_type": "markdown",
   "id": "b406c9a0-7e8d-44f5-8a87-3850e693760e",
   "metadata": {},
   "source": [
    "## Observations:\n",
    "\n",
    "* We can see that the majority of the ratings for this productId are 5, followed by 4, 3, and then 2.\n",
    "* Because the count of ratings 1, 2 is much lower than ratings 4 and 5, this implies that the producr is liked by the majority of users."
   ]
  },
  {
   "cell_type": "code",
   "execution_count": 13,
   "id": "d2d8cb2e-03fe-42ae-9193-4b815d29f853",
   "metadata": {},
   "outputs": [
    {
     "data": {
      "text/plain": [
       "userId\n",
       "A5JLAU2ARJ0BO     520\n",
       "ADLVFFE4VBT8      501\n",
       "A3OXHLG6DIBRW8    498\n",
       "A6FIAB28IS79      431\n",
       "A680RUE1FDO8B     406\n",
       "                 ... \n",
       "A1IUWX30VMVJGP      1\n",
       "A1WBP7XSZI6AUL      1\n",
       "A2K7UNJHE9ZR0G      1\n",
       "A1A6SIW6EWF6FP      1\n",
       "A10M2KEFPEQDHN      1\n",
       "Name: count, Length: 4201696, dtype: int64"
      ]
     },
     "execution_count": 13,
     "metadata": {},
     "output_type": "execute_result"
    }
   ],
   "source": [
    "# userId = 'A5JLAU2ARJ0BO' has interacted with most of the product \n",
    "data['userId'].value_counts()"
   ]
  },
  {
   "cell_type": "markdown",
   "id": "b53994bd-691d-463b-99c7-f5919a49653c",
   "metadata": {},
   "source": [
    "## Observations:\n",
    "\n",
    "* The user with userId: A5JLAU2ARJ0BO has interacted with the most number of products, i.e., 520 times.\n",
    "* But still, there is a possibility of 476002-520 = 4,75,482 more interactions as we have 476002 unique books in the dataset."
   ]
  },
  {
   "cell_type": "markdown",
   "id": "ba77ea9a-1886-4279-b3d0-435130ea50a8",
   "metadata": {},
   "source": [
    "## Data Preparation"
   ]
  },
  {
   "cell_type": "code",
   "execution_count": 14,
   "id": "0a0ec493-0366-4a97-8d36-b1d07a19fb41",
   "metadata": {},
   "outputs": [],
   "source": [
    "# Get the column containing the users\n",
    "users = data['userId']\n",
    "# Create a dictionary from users to find their number of books\n",
    "ratings_count = dict()\n",
    "for user in users:\n",
    "    # If we already have the user, just add 1 to their rating count\n",
    "    if user in ratings_count:\n",
    "        ratings_count[user] += 1\n",
    "    # Otherwise, set their rating count to 1\n",
    "    else:\n",
    "        ratings_count[user] = 1"
   ]
  },
  {
   "cell_type": "code",
   "execution_count": 15,
   "id": "9051817f-f1e8-474e-b98d-c8045d5de03c",
   "metadata": {},
   "outputs": [],
   "source": [
    "# We want our users to have at least 50 ratings to be considered\n",
    "RATINGS_CUTOFF = 50\n",
    "remove_users = []\n",
    "for user, num_ratings in ratings_count.items():\n",
    "    if num_ratings < RATINGS_CUTOFF:\n",
    "        remove_users.append(user)\n",
    "data = data.loc[~data.userId.isin(remove_users)]"
   ]
  },
  {
   "cell_type": "code",
   "execution_count": 16,
   "id": "f3bc4401-ebec-4f93-a4e4-1e2698890996",
   "metadata": {},
   "outputs": [
    {
     "data": {
      "text/plain": [
       "(125871, 4)"
      ]
     },
     "execution_count": 16,
     "metadata": {},
     "output_type": "execute_result"
    }
   ],
   "source": [
    "data.shape"
   ]
  },
  {
   "cell_type": "code",
   "execution_count": 17,
   "id": "588680e0-c66d-464f-bfa4-258c9252ae7a",
   "metadata": {},
   "outputs": [],
   "source": [
    "# Get the column containing the books\n",
    "products = data['productId']\n",
    "# Create a dictionary from books to find their number of users\n",
    "ratings_count = dict()\n",
    "for product in products:\n",
    "    # If we already have the book, just add 1 to their rating count\n",
    "    if product in ratings_count:\n",
    "        ratings_count[product] += 1\n",
    "    # Otherwise, set their rating count to 1\n",
    "    else:\n",
    "        ratings_count[product] = 1"
   ]
  },
  {
   "cell_type": "code",
   "execution_count": 18,
   "id": "c8a816c8-eb5d-4c94-8b2e-97265fe093ac",
   "metadata": {},
   "outputs": [],
   "source": [
    "# We want our item to have at least 5 ratings to be considered\n",
    "RATINGS_CUTOFF = 5\n",
    "\n",
    "remove_users = []\n",
    "\n",
    "for user, num_ratings in ratings_count.items():\n",
    "    if num_ratings < RATINGS_CUTOFF:\n",
    "        remove_users.append(user)\n",
    "\n",
    "data_final = data.loc[~ data.productId.isin(remove_users)]"
   ]
  },
  {
   "cell_type": "code",
   "execution_count": 19,
   "id": "a2027597-f9c6-44bd-9e1f-630d96a63944",
   "metadata": {},
   "outputs": [
    {
     "data": {
      "text/html": [
       "<div>\n",
       "<style scoped>\n",
       "    .dataframe tbody tr th:only-of-type {\n",
       "        vertical-align: middle;\n",
       "    }\n",
       "\n",
       "    .dataframe tbody tr th {\n",
       "        vertical-align: top;\n",
       "    }\n",
       "\n",
       "    .dataframe thead th {\n",
       "        text-align: right;\n",
       "    }\n",
       "</style>\n",
       "<table border=\"1\" class=\"dataframe\">\n",
       "  <thead>\n",
       "    <tr style=\"text-align: right;\">\n",
       "      <th></th>\n",
       "      <th>userId</th>\n",
       "      <th>productId</th>\n",
       "      <th>Rating</th>\n",
       "      <th>timestamp</th>\n",
       "    </tr>\n",
       "  </thead>\n",
       "  <tbody>\n",
       "    <tr>\n",
       "      <th>1310</th>\n",
       "      <td>A3LDPF5FMB782Z</td>\n",
       "      <td>1400501466</td>\n",
       "      <td>5.0</td>\n",
       "      <td>1336003200</td>\n",
       "    </tr>\n",
       "    <tr>\n",
       "      <th>1322</th>\n",
       "      <td>A1A5KUIIIHFF4U</td>\n",
       "      <td>1400501466</td>\n",
       "      <td>1.0</td>\n",
       "      <td>1332547200</td>\n",
       "    </tr>\n",
       "    <tr>\n",
       "      <th>1335</th>\n",
       "      <td>A2XIOXRRYX0KZY</td>\n",
       "      <td>1400501466</td>\n",
       "      <td>3.0</td>\n",
       "      <td>1371686400</td>\n",
       "    </tr>\n",
       "    <tr>\n",
       "      <th>1451</th>\n",
       "      <td>AW3LX47IHPFRL</td>\n",
       "      <td>1400501466</td>\n",
       "      <td>5.0</td>\n",
       "      <td>1339804800</td>\n",
       "    </tr>\n",
       "    <tr>\n",
       "      <th>1456</th>\n",
       "      <td>A1E3OB6QMBKRYZ</td>\n",
       "      <td>1400501466</td>\n",
       "      <td>1.0</td>\n",
       "      <td>1350086400</td>\n",
       "    </tr>\n",
       "  </tbody>\n",
       "</table>\n",
       "</div>"
      ],
      "text/plain": [
       "              userId   productId  Rating   timestamp\n",
       "1310  A3LDPF5FMB782Z  1400501466     5.0  1336003200\n",
       "1322  A1A5KUIIIHFF4U  1400501466     1.0  1332547200\n",
       "1335  A2XIOXRRYX0KZY  1400501466     3.0  1371686400\n",
       "1451   AW3LX47IHPFRL  1400501466     5.0  1339804800\n",
       "1456  A1E3OB6QMBKRYZ  1400501466     1.0  1350086400"
      ]
     },
     "execution_count": 19,
     "metadata": {},
     "output_type": "execute_result"
    }
   ],
   "source": [
    "data_final.head()"
   ]
  },
  {
   "cell_type": "code",
   "execution_count": 20,
   "id": "c869c309-7547-45f7-894e-13fca0c1fc11",
   "metadata": {},
   "outputs": [
    {
     "data": {
      "text/plain": [
       "userId       1540\n",
       "productId    5689\n",
       "Rating          5\n",
       "timestamp    3400\n",
       "dtype: int64"
      ]
     },
     "execution_count": 20,
     "metadata": {},
     "output_type": "execute_result"
    }
   ],
   "source": [
    "data_final.nunique()"
   ]
  },
  {
   "cell_type": "code",
   "execution_count": 21,
   "id": "5c626e89-e720-4b07-92aa-53db1ba93c90",
   "metadata": {},
   "outputs": [
    {
     "data": {
      "text/plain": [
       "userId\n",
       "A100UD67AHFODS     53\n",
       "A100WO06OQR8BQ     77\n",
       "A105S56ODHGJEK     58\n",
       "A105TOJ6LTVMBG     32\n",
       "A10AFVU66A79Y1     47\n",
       "                 ... \n",
       "AZBXKUH4AIW3X      22\n",
       "AZCE11PSTCH1L      23\n",
       "AZMY6E8B52L2T     105\n",
       "AZNUHQSHZHSUE      30\n",
       "AZOK5STV85FBJ      14\n",
       "Name: productId, Length: 1540, dtype: int64"
      ]
     },
     "execution_count": 21,
     "metadata": {},
     "output_type": "execute_result"
    }
   ],
   "source": [
    "# Finding user-products interactions distribution\n",
    "count_interactions = data_final.groupby('userId').count()['productId']\n",
    "count_interactions"
   ]
  },
  {
   "cell_type": "code",
   "execution_count": 22,
   "id": "b8081b52-df22-474e-9189-39da12427199",
   "metadata": {},
   "outputs": [
    {
     "data": {
      "image/png": "[encoded data removed]",
      "text/plain": [
       "<Figure size 1500x700 with 1 Axes>"
      ]
     },
     "metadata": {},
     "output_type": "display_data"
    }
   ],
   "source": [
    "# Plotting user-item interactions distribution\n",
    "\n",
    "plt.figure(figsize=(15,7))\n",
    "\n",
    "sns.histplot(count_interactions)\n",
    "\n",
    "plt.xlabel('Number of Interactions by Users')\n",
    "\n",
    "plt.show()"
   ]
  },
  {
   "cell_type": "markdown",
   "id": "e3d47719-d155-43e8-98e4-24c8c26c8945",
   "metadata": {},
   "source": [
    "## Observations:\n",
    "\n",
    "* The distribution is highly skewed to the right.\n",
    "* It clearly shows that there are very few products which have many ratings."
   ]
  },
  {
   "cell_type": "markdown",
   "id": "ca397dd6-7bb9-4270-8018-6db121bbe7a7",
   "metadata": {},
   "source": [
    "## Model 1: Create Rank-Based Recommendation System"
   ]
  },
  {
   "cell_type": "code",
   "execution_count": 23,
   "id": "336a43c9-db00-40e4-a5fd-cee9386c7d0c",
   "metadata": {},
   "outputs": [],
   "source": [
    "# Calculating average ratings\n",
    "average_rating = data_final.groupby('productId')['Rating'].mean()\n",
    "\n",
    "# Calculating the count of ratings\n",
    "count_rating = data_final.groupby('productId')['Rating'].count()\n",
    "\n",
    "# Making a dataframe with the count and average of ratings\n",
    "final_rating = pd.DataFrame({'avg_rating':average_rating, 'rating_count':count_rating})"
   ]
  },
  {
   "cell_type": "code",
   "execution_count": 24,
   "id": "d55464fd-55f0-4276-be61-04d30ae21507",
   "metadata": {},
   "outputs": [
    {
     "data": {
      "text/html": [
       "<div>\n",
       "<style scoped>\n",
       "    .dataframe tbody tr th:only-of-type {\n",
       "        vertical-align: middle;\n",
       "    }\n",
       "\n",
       "    .dataframe tbody tr th {\n",
       "        vertical-align: top;\n",
       "    }\n",
       "\n",
       "    .dataframe thead th {\n",
       "        text-align: right;\n",
       "    }\n",
       "</style>\n",
       "<table border=\"1\" class=\"dataframe\">\n",
       "  <thead>\n",
       "    <tr style=\"text-align: right;\">\n",
       "      <th></th>\n",
       "      <th>avg_rating</th>\n",
       "      <th>rating_count</th>\n",
       "    </tr>\n",
       "    <tr>\n",
       "      <th>productId</th>\n",
       "      <th></th>\n",
       "      <th></th>\n",
       "    </tr>\n",
       "  </thead>\n",
       "  <tbody>\n",
       "    <tr>\n",
       "      <th>1400501466</th>\n",
       "      <td>3.333333</td>\n",
       "      <td>6</td>\n",
       "    </tr>\n",
       "    <tr>\n",
       "      <th>1400532655</th>\n",
       "      <td>3.833333</td>\n",
       "      <td>6</td>\n",
       "    </tr>\n",
       "    <tr>\n",
       "      <th>1400599997</th>\n",
       "      <td>4.000000</td>\n",
       "      <td>5</td>\n",
       "    </tr>\n",
       "    <tr>\n",
       "      <th>9983891212</th>\n",
       "      <td>4.875000</td>\n",
       "      <td>8</td>\n",
       "    </tr>\n",
       "    <tr>\n",
       "      <th>B00000DM9W</th>\n",
       "      <td>5.000000</td>\n",
       "      <td>5</td>\n",
       "    </tr>\n",
       "  </tbody>\n",
       "</table>\n",
       "</div>"
      ],
      "text/plain": [
       "            avg_rating  rating_count\n",
       "productId                           \n",
       "1400501466    3.333333             6\n",
       "1400532655    3.833333             6\n",
       "1400599997    4.000000             5\n",
       "9983891212    4.875000             8\n",
       "B00000DM9W    5.000000             5"
      ]
     },
     "execution_count": 24,
     "metadata": {},
     "output_type": "execute_result"
    }
   ],
   "source": [
    "final_rating.head()"
   ]
  },
  {
   "cell_type": "code",
   "execution_count": 25,
   "id": "89c13762-c5f7-48ed-8779-0bc0e88c612d",
   "metadata": {},
   "outputs": [
    {
     "data": {
      "text/plain": [
       "rating_count\n",
       "5      1082\n",
       "6       796\n",
       "7       637\n",
       "8       495\n",
       "9       416\n",
       "       ... \n",
       "90        1\n",
       "167       1\n",
       "71        1\n",
       "72        1\n",
       "82        1\n",
       "Name: count, Length: 93, dtype: int64"
      ]
     },
     "execution_count": 25,
     "metadata": {},
     "output_type": "execute_result"
    }
   ],
   "source": [
    "final_rating['rating_count'].value_counts()"
   ]
  },
  {
   "cell_type": "code",
   "execution_count": 26,
   "id": "9ae4b5e8-6a3b-46cc-8e16-0c208f74b1d3",
   "metadata": {},
   "outputs": [],
   "source": [
    "def top_n_products(data, n, min_interaction=100):\n",
    "\n",
    "    # Finding books with minimum number of interactions\n",
    "    recommendations = data[data['rating_count'] > min_interaction]\n",
    "\n",
    "    # Sorting values w.r.t. average rating\n",
    "    recommendations = recommendations.sort_values(by='avg_rating', ascending=False)\n",
    "\n",
    "    return recommendations.index[:n]"
   ]
  },
  {
   "cell_type": "code",
   "execution_count": 27,
   "id": "989514c9-8b06-4ef6-a0ba-849fdcb4d3a4",
   "metadata": {},
   "outputs": [
    {
     "data": {
      "text/plain": [
       "[                 userId   productId  Rating   timestamp\n",
       " 7824158  A3CW0ZLUO5X2B1  B00L3YHF6O     5.0  1405036800\n",
       " 7824160    ADLVFFE4VBT8  B00L3YHF6O     5.0  1404518400\n",
       " 7824163  A3AYSYSLHU26U9  B00L3YHF6O     5.0  1405296000\n",
       " 7824171   A4WEZJOIZIV4U  B00L3YHF6O     5.0  1405036800\n",
       " 7824191  A1EVV74UQYVKRY  B00L3YHF6O     5.0  1404604800\n",
       " 7824192  A2XCCN239AR1XK  B00L3YHF6O     5.0  1404604800\n",
       " 7824196  A1UQBFCERIP7VJ  B00L3YHF6O     5.0  1405900800\n",
       " 7824198   AWPODHOB4GFWL  B00L3YHF6O     5.0  1404950400\n",
       " 7824201  A35Q0RBM3YNQNF  B00L3YHF6O     5.0  1405555200\n",
       " 7824208  A3R1WFO4KIUQXZ  B00L3YHF6O     5.0  1404691200\n",
       " 7824209  A3S3R88HA0HZG3  B00L3YHF6O     5.0  1405468800\n",
       " 7824212  A2XRMQA6PJ5ZJ8  B00L3YHF6O     5.0  1404950400\n",
       " 7824216  A3A4ZAIBQWKOZS  B00L3YHF6O     5.0  1404691200\n",
       " 7824221   AOVTLYTHVDNUX  B00L3YHF6O     5.0  1405296000,\n",
       "                  userId   productId  Rating   timestamp\n",
       " 3734470  A19HT7YC1UW3D6  B003ZYF3M8     5.0  1390348800\n",
       " 3734484  A32T2H8150OJLU  B003ZYF3M8     5.0  1347321600\n",
       " 3734505  A27M75LRSJ788H  B003ZYF3M8     5.0  1360195200\n",
       " 3734580  A1PV5T5S4D5NPI  B003ZYF3M8     5.0  1366070400\n",
       " 3734581  A296QED1MV1V0J  B003ZYF3M8     5.0  1347235200\n",
       " 3734651   A1E1LEVQ9VQNK  B003ZYF3M8     5.0  1342483200\n",
       " 3734681   AEJAGHLC675A7  B003ZYF3M8     5.0  1337299200\n",
       " 3734721  A3R1GJY2MY8041  B003ZYF3M8     5.0  1367020800\n",
       " 3734845  A2XRMQA6PJ5ZJ8  B003ZYF3M8     5.0  1311552000\n",
       " 3734859  A2FSOHSM9X13JT  B003ZYF3M8     5.0  1367971200\n",
       " 3734930   A7KBAXO177NND  B003ZYF3M8     5.0  1367280000,\n",
       "                  userId   productId  Rating   timestamp\n",
       " 3872731  A3TNM3C9ENUCFW  B0044YPN0A     5.0  1382918400\n",
       " 3872732   AIFLY2HF8NS8U  B0044YPN0A     5.0  1373587200\n",
       " 3872733  A1F7YU6O5RU432  B0044YPN0A     5.0  1290816000\n",
       " 3872738  A2PC9ZZIFV31B1  B0044YPN0A     5.0  1337904000\n",
       " 3872762   A8CKH8XB33XGN  B0044YPN0A     5.0  1384732800\n",
       " 3872850  A1987V5OCO6QHS  B0044YPN0A     5.0  1381190400\n",
       " 3872859  A185O1MX1RP964  B0044YPN0A     5.0  1347926400\n",
       " 3872878  A21NS06GDEA3V0  B0044YPN0A     5.0  1378684800\n",
       " 3872888   AG35JCCQWDRCS  B0044YPN0A     5.0  1375920000\n",
       " 3872918  A38Z6QG6988WS7  B0044YPN0A     5.0  1362873600\n",
       " 3872956  A3CP3J7OEGQMD5  B0044YPN0A     5.0  1376265600\n",
       " 3872974  A2EW01G2LNJN06  B0044YPN0A     5.0  1355097600,\n",
       "                  userId   productId  Rating   timestamp\n",
       " 6675383  A361M14PU2GUEG  B009OBCAW2     5.0  1373760000\n",
       " 6675448   APGQTZZ4ZFPHO  B009OBCAW2     5.0  1385769600\n",
       " 6675761  A2LCE1D0TW2XY0  B009OBCAW2     5.0  1373587200\n",
       " 6676427  A3HSDV9Y0TV5Z2  B009OBCAW2     5.0  1389571200\n",
       " 6676485   AT09WGFUM934H  B009OBCAW2     5.0  1398384000\n",
       " 6676590   A7Z2J9V37ABCO  B009OBCAW2     5.0  1391644800\n",
       " 6676702  A2I6GN7OHB9JKF  B009OBCAW2     5.0  1378166400\n",
       " 6677022  A2NYK9KWFMJV4Y  B009OBCAW2     5.0  1372118400\n",
       " 6677239  A28RSMADFCBJDT  B009OBCAW2     5.0  1388966400\n",
       " 6677625  A3BNMHRW2R35LK  B009OBCAW2     5.0  1374105600\n",
       " 6677731   AGR1V15L6FLMA  B009OBCAW2     5.0  1386633600,\n",
       "                  userId   productId  Rating   timestamp\n",
       " 3036962  A2AY4YUOX2N1BQ  B0033PRWSW     5.0  1331769600\n",
       " 3036975  A2LCE1D0TW2XY0  B0033PRWSW     5.0  1362182400\n",
       " 3036978  A3EXWV8FNSSFL6  B0033PRWSW     5.0  1358208000\n",
       " 3036980  A1SC5OXLQNGPLN  B0033PRWSW     5.0  1382918400\n",
       " 3036989  A30C8WHQ2CYFO4  B0033PRWSW     5.0  1371686400\n",
       " 3037006  A3JUHP1E3WUHEA  B0033PRWSW     5.0  1285286400\n",
       " 3037081  A2NSMJVQY0RV9S  B0033PRWSW     5.0  1315872000\n",
       " 3037126   ADZF3QDGSZE7K  B0033PRWSW     5.0  1292976000\n",
       " 3037137  A1QJ10LEINDRWW  B0033PRWSW     5.0  1359763200\n",
       " 3037170  A1QNYLBG73QRNF  B0033PRWSW     5.0  1311638400\n",
       " 3037181  A3REK3OFONWB1Q  B0033PRWSW     5.0  1277251200\n",
       " 3037184  A3EZFFPVS34AMO  B0033PRWSW     5.0  1291680000\n",
       " 3037204  A1AQ8JT2A3UWMY  B0033PRWSW     5.0  1348790400\n",
       " 3037213  A1UL2JH7XOUGM5  B0033PRWSW     5.0  1384819200\n",
       " 3037240  A3A4ZAIBQWKOZS  B0033PRWSW     5.0  1329350400]"
      ]
     },
     "execution_count": 27,
     "metadata": {},
     "output_type": "execute_result"
    }
   ],
   "source": [
    "res = list(top_n_products(final_rating, 5, 10))\n",
    "# Name of the books\n",
    "list_of_products = []\n",
    "for i in res:\n",
    "    list_of_products.append(data_final[data_final['productId'] == str(i)]) \n",
    "list_of_products"
   ]
  },
  {
   "cell_type": "code",
   "execution_count": 28,
   "id": "34a329e0-e7fd-4d98-a9fd-8120d17f41c3",
   "metadata": {},
   "outputs": [
    {
     "data": {
      "text/plain": [
       "[                 userId   productId  Rating   timestamp\n",
       " 3313486   AAXAKFQEAQPWC  B003ES5ZUU     3.0  1401580800\n",
       " 3313490  A3CW0ZLUO5X2B1  B003ES5ZUU     5.0  1322870400\n",
       " 3313605    ADLVFFE4VBT8  B003ES5ZUU     5.0  1292371200\n",
       " 3313635  A32O98PFC3OP7K  B003ES5ZUU     5.0  1361059200\n",
       " 3313779  A32QOZWIKQDNZX  B003ES5ZUU     5.0  1300320000\n",
       " ...                 ...         ...     ...         ...\n",
       " 3323617  A1MFPAM9TTRTXN  B003ES5ZUU     5.0  1402185600\n",
       " 3323626  A3TCMJ6GKZJFBQ  B003ES5ZUU     3.0  1292716800\n",
       " 3323639  A2I2KPNJDQ9SL0  B003ES5ZUU     5.0  1365206400\n",
       " 3323659  A3CG93783LP0FO  B003ES5ZUU     5.0  1385942400\n",
       " 3323705   AXYM52DNK6NDF  B003ES5ZUU     5.0  1340150400\n",
       " \n",
       " [184 rows x 4 columns],\n",
       "                  userId   productId  Rating   timestamp\n",
       " 1198226   A9ELHLPXF7JKD  B000N99BBC     5.0  1365292800\n",
       " 1198233  A19UTUEBWKIZFT  B000N99BBC     5.0  1374883200\n",
       " 1198238  A2RW587355CMVA  B000N99BBC     5.0  1368748800\n",
       " 1198255  A3RGHO0Q938FRS  B000N99BBC     5.0  1365379200\n",
       " 1198285  A3NXJDNTQK2YJL  B000N99BBC     4.0  1363824000\n",
       " ...                 ...         ...     ...         ...\n",
       " 1199228  A20L63B48RPSOH  B000N99BBC     4.0  1368662400\n",
       " 1199233  A3QD59N3M7O7KB  B000N99BBC     5.0  1377475200\n",
       " 1199239  A20VG5W98SX99L  B000N99BBC     5.0  1376438400\n",
       " 1199240   A357B3PUHSVQA  B000N99BBC     4.0  1363910400\n",
       " 1199243   AGOH8N902URMW  B000N99BBC     5.0  1376870400\n",
       " \n",
       " [167 rows x 4 columns],\n",
       "                  userId   productId  Rating   timestamp\n",
       " 5941380  A3CW0ZLUO5X2B1  B007WTAJTO     5.0  1404950400\n",
       " 5941492   AGX2K0FMS0IVL  B007WTAJTO     5.0  1396483200\n",
       " 5941579  A2NN1KIYEM2SKS  B007WTAJTO     5.0  1403395200\n",
       " 5941640  A2PZXXPGLXXKZU  B007WTAJTO     4.0  1359936000\n",
       " 5941649   AJEOFP6ZWY0MK  B007WTAJTO     5.0  1388620800\n",
       " ...                 ...         ...     ...         ...\n",
       " 5955283  A2HRHF83I3NDGT  B007WTAJTO     5.0  1385424000\n",
       " 5955314  A1MFPAM9TTRTXN  B007WTAJTO     5.0  1377648000\n",
       " 5955351  A3UR2N0ATGBCU8  B007WTAJTO     5.0  1349308800\n",
       " 5955434  A1YEPFLLH42OU1  B007WTAJTO     4.0  1354147200\n",
       " 5955493  A2JWF9IG8PJAOA  B007WTAJTO     5.0  1376611200\n",
       " \n",
       " [164 rows x 4 columns],\n",
       "                  userId   productId  Rating   timestamp\n",
       " 2883526   ABSYIF0ONC2AF  B002V88HFE     1.0  1383782400\n",
       " 2883623  A3LDPF5FMB782Z  B002V88HFE     5.0  1320105600\n",
       " 2883665  A1VLE2SH9J8WYS  B002V88HFE     5.0  1315267200\n",
       " 2883667   AETQIN7OH0RL9  B002V88HFE     5.0  1386374400\n",
       " 2883857   AI2AOCTC8BQVZ  B002V88HFE     5.0  1364688000\n",
       " ...                 ...         ...     ...         ...\n",
       " 2888131  A1USYP4AXF5I1D  B002V88HFE     5.0  1361923200\n",
       " 2888189  A3CG93783LP0FO  B002V88HFE     4.0  1313107200\n",
       " 2888206   A357B3PUHSVQA  B002V88HFE     5.0  1344384000\n",
       " 2888208  A1YEPFLLH42OU1  B002V88HFE     5.0  1380931200\n",
       " 2888211   AXYM52DNK6NDF  B002V88HFE     5.0  1324252800\n",
       " \n",
       " [106 rows x 4 columns],\n",
       "                  userId   productId  Rating   timestamp\n",
       " 4024382  A24HWYHR28JJ7A  B004CLYEDC     4.0  1358812800\n",
       " 4024383  A3CW0ZLUO5X2B1  B004CLYEDC     5.0  1359244800\n",
       " 4024385  A3EZEP0FX5BC1P  B004CLYEDC     4.0  1297382400\n",
       " 4024386   AQCJWSMSURQI2  B004CLYEDC     4.0  1303862400\n",
       " 4024387  A1J5HIF41ENSMZ  B004CLYEDC     4.0  1318896000\n",
       " ...                 ...         ...     ...         ...\n",
       " 4024583  A2WA8TDCTGUADI  B004CLYEDC     5.0  1299024000\n",
       " 4024587   ACSX5AIZE3MJ9  B004CLYEDC     5.0  1365120000\n",
       " 4024588  A3CEUT263RNUDO  B004CLYEDC     4.0  1352851200\n",
       " 4024589  A1HBI9BBQIG1NH  B004CLYEDC     4.0  1302393600\n",
       " 4024591  A12O5SEIF162P8  B004CLYEDC     5.0  1305763200\n",
       " \n",
       " [118 rows x 4 columns]]"
      ]
     },
     "execution_count": 28,
     "metadata": {},
     "output_type": "execute_result"
    }
   ],
   "source": [
    "res2 = list(top_n_products(final_rating, 5, 100))\n",
    "# Name of the books\n",
    "list_of_product = []\n",
    "for i in res2:\n",
    "    list_of_product.append(data_final[data_final['productId'] == str(i)])\n",
    "list_of_product"
   ]
  },
  {
   "cell_type": "markdown",
   "id": "148a4f8d-4350-46f2-9294-0b73b42f579d",
   "metadata": {},
   "source": [
    "## Model 2: Collaborative Filtering Based Recommendation System"
   ]
  },
  {
   "cell_type": "code",
   "execution_count": 29,
   "id": "18a9c9a5-a6ff-422c-9fe1-a127d191b5bc",
   "metadata": {},
   "outputs": [],
   "source": [
    "# To compute the accuracy of models\n",
    "from surprise import accuracy\n",
    "\n",
    "# Class is used to parse a file containing ratings, data should be in the structure - user ; item ; rating\n",
    "from surprise.reader import Reader\n",
    "\n",
    "# Class for loading datasets\n",
    "from surprise.dataset import Dataset\n",
    "\n",
    "# For tuning model hyperparameters\n",
    "from surprise.model_selection import GridSearchCV\n",
    "\n",
    "# For splitting the rating data in train and test dataset\n",
    "from surprise.model_selection import train_test_split\n",
    "\n",
    "# For implementing similarity-based recommendation system\n",
    "from surprise.prediction_algorithms.knns import KNNBasic"
   ]
  },
  {
   "cell_type": "code",
   "execution_count": 30,
   "id": "e2b9ac10-6e07-42eb-96cc-24a7ca29160b",
   "metadata": {},
   "outputs": [],
   "source": [
    "def precision_recall_at_k(model, k=10, threshold=3.5):\n",
    "\n",
    "    # First map the predictions to each user\n",
    "    user_est_true = defaultdict(list)\n",
    "\n",
    "    # Making predictions on the test data\n",
    "    predictions=model.test(testset)\n",
    "\n",
    "    for uid, _, true_r, est, _ in predictions:\n",
    "        user_est_true[uid].append((est, true_r))\n",
    "\n",
    "    precisions = dict()\n",
    "    recalls = dict()\n",
    "    for uid, user_ratings in user_est_true.items():\n",
    "\n",
    "        # Sort user ratings by estimated value\n",
    "        user_ratings.sort(key=lambda x: x[0], reverse=True)\n",
    "\n",
    "        # Number of relevant items\n",
    "        n_rel = sum((true_r >= threshold) for (_, true_r) in user_ratings)\n",
    "\n",
    "        # Number of recommended items in top k\n",
    "        n_rec_k = sum((est >= threshold) for (est, _) in user_ratings[:k])\n",
    "\n",
    "        # Number of relevant and recommended items in top k\n",
    "        n_rel_and_rec_k = sum(((true_r >= threshold) and (est >= threshold))\n",
    "                              for (est, true_r) in user_ratings[:k])\n",
    "\n",
    "        # Precision@K: Proportion of recommended items that are relevant\n",
    "        # When n_rec_k is 0, Precision is undefined. We here set Precision to 0 when n_rec_k is 0.\n",
    "\n",
    "        precisions[uid] = n_rel_and_rec_k / n_rec_k if n_rec_k != 0 else 0\n",
    "\n",
    "        # Recall@K: Proportion of relevant items that are recommended\n",
    "        # When n_rel is 0, Recall is undefined. We here set Recall to 0 when n_rel is 0.\n",
    "\n",
    "        recalls[uid] = n_rel_and_rec_k / n_rel if n_rel != 0 else 0\n",
    "\n",
    "    # Mean of all the predicted precisions is calculated.\n",
    "    precision = round((sum(prec for prec in precisions.values()) / len(precisions)),3)\n",
    "    # Mean of all the predicted recalls is calculated.\n",
    "    recall = round((sum(rec for rec in recalls.values()) / len(recalls)),3)\n",
    "\n",
    "    accuracy.rmse(predictions)\n",
    "    print('Precision: ', precision) # Command to print the overall precision\n",
    "    print('Recall: ', recall) # Command to print the overall recall\n",
    "    print('F_1 score: ', round((2*precision*recall)/(precision+recall),3)) # Formula to compute the F-1 score."
   ]
  },
  {
   "cell_type": "code",
   "execution_count": 31,
   "id": "3bbcb3b6-c787-423a-a8e6-df3c7d00c151",
   "metadata": {},
   "outputs": [
    {
     "data": {
      "text/html": [
       "<div>\n",
       "<style scoped>\n",
       "    .dataframe tbody tr th:only-of-type {\n",
       "        vertical-align: middle;\n",
       "    }\n",
       "\n",
       "    .dataframe tbody tr th {\n",
       "        vertical-align: top;\n",
       "    }\n",
       "\n",
       "    .dataframe thead th {\n",
       "        text-align: right;\n",
       "    }\n",
       "</style>\n",
       "<table border=\"1\" class=\"dataframe\">\n",
       "  <thead>\n",
       "    <tr style=\"text-align: right;\">\n",
       "      <th></th>\n",
       "      <th>userId</th>\n",
       "      <th>productId</th>\n",
       "      <th>Rating</th>\n",
       "    </tr>\n",
       "  </thead>\n",
       "  <tbody>\n",
       "    <tr>\n",
       "      <th>1310</th>\n",
       "      <td>1050</td>\n",
       "      <td>0</td>\n",
       "      <td>5.0</td>\n",
       "    </tr>\n",
       "    <tr>\n",
       "      <th>1322</th>\n",
       "      <td>125</td>\n",
       "      <td>0</td>\n",
       "      <td>1.0</td>\n",
       "    </tr>\n",
       "    <tr>\n",
       "      <th>1335</th>\n",
       "      <td>785</td>\n",
       "      <td>0</td>\n",
       "      <td>3.0</td>\n",
       "    </tr>\n",
       "    <tr>\n",
       "      <th>1451</th>\n",
       "      <td>1495</td>\n",
       "      <td>0</td>\n",
       "      <td>5.0</td>\n",
       "    </tr>\n",
       "    <tr>\n",
       "      <th>1456</th>\n",
       "      <td>164</td>\n",
       "      <td>0</td>\n",
       "      <td>1.0</td>\n",
       "    </tr>\n",
       "    <tr>\n",
       "      <th>1485</th>\n",
       "      <td>114</td>\n",
       "      <td>0</td>\n",
       "      <td>5.0</td>\n",
       "    </tr>\n",
       "    <tr>\n",
       "      <th>2082</th>\n",
       "      <td>812</td>\n",
       "      <td>1</td>\n",
       "      <td>5.0</td>\n",
       "    </tr>\n",
       "    <tr>\n",
       "      <th>2150</th>\n",
       "      <td>950</td>\n",
       "      <td>1</td>\n",
       "      <td>5.0</td>\n",
       "    </tr>\n",
       "    <tr>\n",
       "      <th>2162</th>\n",
       "      <td>1203</td>\n",
       "      <td>1</td>\n",
       "      <td>1.0</td>\n",
       "    </tr>\n",
       "    <tr>\n",
       "      <th>2228</th>\n",
       "      <td>272</td>\n",
       "      <td>1</td>\n",
       "      <td>4.0</td>\n",
       "    </tr>\n",
       "  </tbody>\n",
       "</table>\n",
       "</div>"
      ],
      "text/plain": [
       "      userId  productId  Rating\n",
       "1310    1050          0     5.0\n",
       "1322     125          0     1.0\n",
       "1335     785          0     3.0\n",
       "1451    1495          0     5.0\n",
       "1456     164          0     1.0\n",
       "1485     114          0     5.0\n",
       "2082     812          1     5.0\n",
       "2150     950          1     5.0\n",
       "2162    1203          1     1.0\n",
       "2228     272          1     4.0"
      ]
     },
     "execution_count": 31,
     "metadata": {},
     "output_type": "execute_result"
    }
   ],
   "source": [
    "from sklearn.preprocessing import LabelEncoder\n",
    "df = data_final[['userId','productId']].apply(LabelEncoder().fit_transform)\n",
    "df['Rating'] = data_final['Rating']\n",
    "df.head(10)"
   ]
  },
  {
   "cell_type": "code",
   "execution_count": 32,
   "id": "104e7d60-3fb6-4764-89cb-66ef68c820b2",
   "metadata": {},
   "outputs": [],
   "source": [
    "df_rating = df.copy()"
   ]
  },
  {
   "cell_type": "code",
   "execution_count": 33,
   "id": "a6ccc71b-6acd-42ec-b875-aa5a2a5a466c",
   "metadata": {},
   "outputs": [
    {
     "data": {
      "text/html": [
       "<div>\n",
       "<style scoped>\n",
       "    .dataframe tbody tr th:only-of-type {\n",
       "        vertical-align: middle;\n",
       "    }\n",
       "\n",
       "    .dataframe tbody tr th {\n",
       "        vertical-align: top;\n",
       "    }\n",
       "\n",
       "    .dataframe thead th {\n",
       "        text-align: right;\n",
       "    }\n",
       "</style>\n",
       "<table border=\"1\" class=\"dataframe\">\n",
       "  <thead>\n",
       "    <tr style=\"text-align: right;\">\n",
       "      <th></th>\n",
       "      <th>avg_rating</th>\n",
       "      <th>rating_count</th>\n",
       "    </tr>\n",
       "    <tr>\n",
       "      <th>productId</th>\n",
       "      <th></th>\n",
       "      <th></th>\n",
       "    </tr>\n",
       "  </thead>\n",
       "  <tbody>\n",
       "    <tr>\n",
       "      <th>0</th>\n",
       "      <td>3.333333</td>\n",
       "      <td>6</td>\n",
       "    </tr>\n",
       "    <tr>\n",
       "      <th>1</th>\n",
       "      <td>3.833333</td>\n",
       "      <td>6</td>\n",
       "    </tr>\n",
       "    <tr>\n",
       "      <th>2</th>\n",
       "      <td>4.000000</td>\n",
       "      <td>5</td>\n",
       "    </tr>\n",
       "    <tr>\n",
       "      <th>3</th>\n",
       "      <td>4.875000</td>\n",
       "      <td>8</td>\n",
       "    </tr>\n",
       "    <tr>\n",
       "      <th>4</th>\n",
       "      <td>5.000000</td>\n",
       "      <td>5</td>\n",
       "    </tr>\n",
       "  </tbody>\n",
       "</table>\n",
       "</div>"
      ],
      "text/plain": [
       "           avg_rating  rating_count\n",
       "productId                          \n",
       "0            3.333333             6\n",
       "1            3.833333             6\n",
       "2            4.000000             5\n",
       "3            4.875000             8\n",
       "4            5.000000             5"
      ]
     },
     "execution_count": 33,
     "metadata": {},
     "output_type": "execute_result"
    }
   ],
   "source": [
    "# Calculating average ratings\n",
    "average_rating = df.groupby('productId')['Rating'].mean()\n",
    "\n",
    "# Calculating the count of ratings\n",
    "count_rating = df.groupby('productId')['Rating'].count()\n",
    "\n",
    "# Updating the final_rating dataframe with the new encoded book_id count and average of ratings based on the new dataframe\n",
    "final_rating = pd.DataFrame({'avg_rating':average_rating, 'rating_count':count_rating})\n",
    "final_rating.head()"
   ]
  },
  {
   "cell_type": "code",
   "execution_count": 34,
   "id": "54633d47-1d77-4d68-8bbf-dee1618a4dee",
   "metadata": {},
   "outputs": [],
   "source": [
    "# Instantiating Reader scale with expected rating scale\n",
    "reader = Reader(rating_scale=(1, 5))\n",
    "\n",
    "# Loading the rating dataset\n",
    "data = Dataset.load_from_df(df[['userId', 'productId', 'Rating']], reader)\n",
    "\n",
    "# Splitting the data into train and test dataset\n",
    "trainset, testset = train_test_split(data, test_size=0.3, random_state=42)"
   ]
  },
  {
   "cell_type": "markdown",
   "id": "6c3bb63c-6b61-4efb-aeec-0778a9aeb596",
   "metadata": {},
   "source": [
    "## User-Based Collaborative Filtering Recommendation System"
   ]
  },
  {
   "cell_type": "code",
   "execution_count": 35,
   "id": "f9833c08-9512-460b-8173-5d81d27d89eb",
   "metadata": {},
   "outputs": [
    {
     "name": "stdout",
     "output_type": "stream",
     "text": [
      "RMSE: 1.0250\n",
      "Precision:  0.86\n",
      "Recall:  0.783\n",
      "F_1 score:  0.82\n"
     ]
    }
   ],
   "source": [
    "sim_options = {'name': 'cosine',\n",
    "               'user_based': True}\n",
    "\n",
    "algo_knn_user = KNNBasic(sim_options=sim_options,verbose=False)\n",
    "\n",
    "# Train the algorithm on the train set, and predict ratings for the test set\n",
    "algo_knn_user.fit(trainset)\n",
    "\n",
    "# Let us compute precision@k, recall@k, and f_1 score with k =10.\n",
    "precision_recall_at_k(algo_knn_user)"
   ]
  },
  {
   "cell_type": "code",
   "execution_count": 36,
   "id": "8f3f9726-9177-462a-966d-893862113dc4",
   "metadata": {},
   "outputs": [
    {
     "data": {
      "text/html": [
       "<div>\n",
       "<style scoped>\n",
       "    .dataframe tbody tr th:only-of-type {\n",
       "        vertical-align: middle;\n",
       "    }\n",
       "\n",
       "    .dataframe tbody tr th {\n",
       "        vertical-align: top;\n",
       "    }\n",
       "\n",
       "    .dataframe thead th {\n",
       "        text-align: right;\n",
       "    }\n",
       "</style>\n",
       "<table border=\"1\" class=\"dataframe\">\n",
       "  <thead>\n",
       "    <tr style=\"text-align: right;\">\n",
       "      <th></th>\n",
       "      <th>userId</th>\n",
       "      <th>productId</th>\n",
       "      <th>Rating</th>\n",
       "    </tr>\n",
       "  </thead>\n",
       "  <tbody>\n",
       "    <tr>\n",
       "      <th>1310</th>\n",
       "      <td>1050</td>\n",
       "      <td>0</td>\n",
       "      <td>5.0</td>\n",
       "    </tr>\n",
       "    <tr>\n",
       "      <th>1322</th>\n",
       "      <td>125</td>\n",
       "      <td>0</td>\n",
       "      <td>1.0</td>\n",
       "    </tr>\n",
       "    <tr>\n",
       "      <th>1335</th>\n",
       "      <td>785</td>\n",
       "      <td>0</td>\n",
       "      <td>3.0</td>\n",
       "    </tr>\n",
       "    <tr>\n",
       "      <th>1451</th>\n",
       "      <td>1495</td>\n",
       "      <td>0</td>\n",
       "      <td>5.0</td>\n",
       "    </tr>\n",
       "    <tr>\n",
       "      <th>1456</th>\n",
       "      <td>164</td>\n",
       "      <td>0</td>\n",
       "      <td>1.0</td>\n",
       "    </tr>\n",
       "    <tr>\n",
       "      <th>...</th>\n",
       "      <td>...</td>\n",
       "      <td>...</td>\n",
       "      <td>...</td>\n",
       "    </tr>\n",
       "    <tr>\n",
       "      <th>7824423</th>\n",
       "      <td>870</td>\n",
       "      <td>5688</td>\n",
       "      <td>5.0</td>\n",
       "    </tr>\n",
       "    <tr>\n",
       "      <th>7824424</th>\n",
       "      <td>187</td>\n",
       "      <td>5688</td>\n",
       "      <td>5.0</td>\n",
       "    </tr>\n",
       "    <tr>\n",
       "      <th>7824425</th>\n",
       "      <td>462</td>\n",
       "      <td>5688</td>\n",
       "      <td>5.0</td>\n",
       "    </tr>\n",
       "    <tr>\n",
       "      <th>7824426</th>\n",
       "      <td>163</td>\n",
       "      <td>5688</td>\n",
       "      <td>5.0</td>\n",
       "    </tr>\n",
       "    <tr>\n",
       "      <th>7824427</th>\n",
       "      <td>664</td>\n",
       "      <td>5688</td>\n",
       "      <td>5.0</td>\n",
       "    </tr>\n",
       "  </tbody>\n",
       "</table>\n",
       "<p>65290 rows × 3 columns</p>\n",
       "</div>"
      ],
      "text/plain": [
       "         userId  productId  Rating\n",
       "1310       1050          0     5.0\n",
       "1322        125          0     1.0\n",
       "1335        785          0     3.0\n",
       "1451       1495          0     5.0\n",
       "1456        164          0     1.0\n",
       "...         ...        ...     ...\n",
       "7824423     870       5688     5.0\n",
       "7824424     187       5688     5.0\n",
       "7824425     462       5688     5.0\n",
       "7824426     163       5688     5.0\n",
       "7824427     664       5688     5.0\n",
       "\n",
       "[65290 rows x 3 columns]"
      ]
     },
     "execution_count": 36,
     "metadata": {},
     "output_type": "execute_result"
    }
   ],
   "source": [
    "df"
   ]
  },
  {
   "cell_type": "code",
   "execution_count": 37,
   "id": "253fb8e3-7db0-4248-b0fe-4de943289a66",
   "metadata": {},
   "outputs": [
    {
     "name": "stdout",
     "output_type": "stream",
     "text": [
      "user: 1310       item: 0          r_ui = 5.00   est = 4.29   {'was_impossible': True, 'reason': 'Not enough neighbors.'}\n"
     ]
    },
    {
     "data": {
      "text/plain": [
       "Prediction(uid=1310, iid=0, r_ui=5, est=4.291403190162572, details={'was_impossible': True, 'reason': 'Not enough neighbors.'})"
      ]
     },
     "execution_count": 37,
     "metadata": {},
     "output_type": "execute_result"
    }
   ],
   "source": [
    "algo_knn_user.predict(1310, 0, r_ui=5, verbose=True)"
   ]
  },
  {
   "cell_type": "code",
   "execution_count": 38,
   "id": "50f218b7-e1cc-48ab-88da-b7a5fdb9be9f",
   "metadata": {},
   "outputs": [
    {
     "name": "stdout",
     "output_type": "stream",
     "text": [
      "0.9719102952277919\n",
      "{'k': 60, 'min_k': 6, 'sim_options': {'name': 'cosine', 'user_based': True}}\n"
     ]
    }
   ],
   "source": [
    "# Setting up parameter grid to tune the hyperparameters\n",
    "param_grid = {'k': [20, 30, 40, 50, 60], 'min_k': [3, 6, 9],\n",
    "              'sim_options': {'name': ['msd', 'cosine'],\n",
    "                              'user_based': [True]}\n",
    "              }\n",
    "\n",
    "# Performing 3-fold cross validation to tune the hyperparameters\n",
    "gs = GridSearchCV(KNNBasic, param_grid, measures=['rmse', 'mae'], cv=3, n_jobs=-1)\n",
    "\n",
    "# Fitting the data\n",
    "gs.fit(data)\n",
    "\n",
    "# Best RMSE score\n",
    "print(gs.best_score['rmse'])\n",
    "\n",
    "# Combination of parameters that gave the best RMSE score\n",
    "print(gs.best_params['rmse'])"
   ]
  },
  {
   "cell_type": "code",
   "execution_count": 39,
   "id": "9faf76f3-4416-4d87-9088-9ea4f53791ea",
   "metadata": {},
   "outputs": [
    {
     "name": "stdout",
     "output_type": "stream",
     "text": [
      "RMSE: 0.9630\n",
      "Precision:  0.85\n",
      "Recall:  0.809\n",
      "F_1 score:  0.829\n"
     ]
    }
   ],
   "source": [
    "# Using the optimal similarity measure for user-user based collaborative filtering\n",
    "sim_options = {'name': 'cosine',\n",
    "               'user_based': True}\n",
    "\n",
    "# Creating an instance of KNNBasic with optimal hyperparameter values\n",
    "similarity_algo_optimized = KNNBasic(sim_options=sim_options, k=50, min_k=6, verbose=False)\n",
    "\n",
    "# Training the algorithm on the train set\n",
    "similarity_algo_optimized.fit(trainset)\n",
    "\n",
    "# Let us compute precision@k and recall@k with k=10.\n",
    "precision_recall_at_k(similarity_algo_optimized)"
   ]
  },
  {
   "cell_type": "code",
   "execution_count": 40,
   "id": "b985dba7-bc1a-4529-bcbb-7039421ae2f5",
   "metadata": {},
   "outputs": [
    {
     "name": "stdout",
     "output_type": "stream",
     "text": [
      "user: 1310       item: 0          r_ui = 5.00   est = 4.29   {'was_impossible': True, 'reason': 'Not enough neighbors.'}\n"
     ]
    },
    {
     "data": {
      "text/plain": [
       "Prediction(uid=1310, iid=0, r_ui=5, est=4.291403190162572, details={'was_impossible': True, 'reason': 'Not enough neighbors.'})"
      ]
     },
     "execution_count": 40,
     "metadata": {},
     "output_type": "execute_result"
    }
   ],
   "source": [
    "similarity_algo_optimized.predict(1310, 0, r_ui=5, verbose=True)"
   ]
  },
  {
   "cell_type": "markdown",
   "id": "fa022c45-0cae-431d-bf32-df109867ee5f",
   "metadata": {},
   "source": [
    "## Implementing the recommendation algorithm based on optimized KNNBasic model"
   ]
  },
  {
   "cell_type": "code",
   "execution_count": 41,
   "id": "071adac6-c344-40b2-94b6-6fa4fe5cbb26",
   "metadata": {},
   "outputs": [],
   "source": [
    "def get_recommendations(data, userId, top_n, algo):\n",
    "\n",
    "    # Creating an empty list to store the recommended book ids\n",
    "    recommendations = []\n",
    "\n",
    "    # Creating an user item interactions matrix\n",
    "    user_item_interactions_matrix = data.pivot(index='userId', columns='productId', values='Rating')\n",
    "\n",
    "    # Extracting those book ids which the user_id has not interacted with yet\n",
    "    non_interacted_items = user_item_interactions_matrix.loc[userId][user_item_interactions_matrix.loc[userId].isnull()].index.tolist()\n",
    "\n",
    "    # Looping through each of the book id which user_id has not interacted with yet\n",
    "    for productId in non_interacted_items:\n",
    "\n",
    "        # Predicting the ratings for those non interacted book ids by this user\n",
    "        est = algo.predict(userId, productId).est\n",
    "\n",
    "        # Appending the predicted ratings\n",
    "        recommendations.append((productId, est))\n",
    "\n",
    "    # Sorting the predicted ratings in descending order\n",
    "    recommendations.sort(key=lambda x: x[1], reverse=True)\n",
    "\n",
    "    return recommendations[:top_n] # Returning top n predicted rating items for this user"
   ]
  },
  {
   "cell_type": "code",
   "execution_count": 42,
   "id": "dbee0a82-431e-4451-a25f-23b7b28f2cad",
   "metadata": {},
   "outputs": [],
   "source": [
    "df_rating = df_rating.drop_duplicates()"
   ]
  },
  {
   "cell_type": "code",
   "execution_count": 43,
   "id": "fd868c93-e034-49dc-bdb3-d66c4203c35d",
   "metadata": {},
   "outputs": [],
   "source": [
    "recommendations = get_recommendations(df_rating, 1, 5, similarity_algo_optimized)"
   ]
  },
  {
   "cell_type": "code",
   "execution_count": 44,
   "id": "48853188-9b20-43af-9b8f-c0d4f9ac2f75",
   "metadata": {},
   "outputs": [
    {
     "data": {
      "text/html": [
       "<div>\n",
       "<style scoped>\n",
       "    .dataframe tbody tr th:only-of-type {\n",
       "        vertical-align: middle;\n",
       "    }\n",
       "\n",
       "    .dataframe tbody tr th {\n",
       "        vertical-align: top;\n",
       "    }\n",
       "\n",
       "    .dataframe thead th {\n",
       "        text-align: right;\n",
       "    }\n",
       "</style>\n",
       "<table border=\"1\" class=\"dataframe\">\n",
       "  <thead>\n",
       "    <tr style=\"text-align: right;\">\n",
       "      <th></th>\n",
       "      <th>productId</th>\n",
       "      <th>predicted_ratings</th>\n",
       "    </tr>\n",
       "  </thead>\n",
       "  <tbody>\n",
       "    <tr>\n",
       "      <th>0</th>\n",
       "      <td>53</td>\n",
       "      <td>5</td>\n",
       "    </tr>\n",
       "    <tr>\n",
       "      <th>1</th>\n",
       "      <td>121</td>\n",
       "      <td>5</td>\n",
       "    </tr>\n",
       "    <tr>\n",
       "      <th>2</th>\n",
       "      <td>472</td>\n",
       "      <td>5</td>\n",
       "    </tr>\n",
       "    <tr>\n",
       "      <th>3</th>\n",
       "      <td>504</td>\n",
       "      <td>5</td>\n",
       "    </tr>\n",
       "    <tr>\n",
       "      <th>4</th>\n",
       "      <td>579</td>\n",
       "      <td>5</td>\n",
       "    </tr>\n",
       "  </tbody>\n",
       "</table>\n",
       "</div>"
      ],
      "text/plain": [
       "   productId  predicted_ratings\n",
       "0         53                  5\n",
       "1        121                  5\n",
       "2        472                  5\n",
       "3        504                  5\n",
       "4        579                  5"
      ]
     },
     "execution_count": 44,
     "metadata": {},
     "output_type": "execute_result"
    }
   ],
   "source": [
    "# Building the dataframe for above recommendations with columns \"book_id\" and \"predicted_ratings\"\n",
    "pd.DataFrame(recommendations, columns=['productId', 'predicted_ratings'])"
   ]
  },
  {
   "cell_type": "code",
   "execution_count": 45,
   "id": "f9946a1a-e275-4f45-b15f-47417c36d3b2",
   "metadata": {},
   "outputs": [],
   "source": [
    "def ranking_products(recommendations, final_rating):\n",
    "  # Sort the books based on ratings count\n",
    "  ranked_products = final_rating.loc[[items[0] for items in recommendations]].sort_values('rating_count', ascending=False)[['rating_count']].reset_index()\n",
    "\n",
    "  # Merge with the recommended books to get predicted ratings\n",
    "  ranked_products = ranked_products.merge(pd.DataFrame(recommendations, columns=['productId', 'predicted_ratings']), on='productId', how='inner')\n",
    "\n",
    "  # Rank the books based on corrected ratings\n",
    "  ranked_products['corrected_ratings'] = ranked_products['predicted_ratings'] - 1 / np.sqrt(ranked_products['rating_count'])\n",
    "\n",
    "  # Sort the books based on corrected ratings\n",
    "  ranked_products = ranked_products.sort_values('corrected_ratings', ascending=False)\n",
    "\n",
    "  return ranked_products"
   ]
  },
  {
   "cell_type": "code",
   "execution_count": 46,
   "id": "781356b4-8f7d-4dda-8a07-a046d604ac1b",
   "metadata": {},
   "outputs": [
    {
     "data": {
      "text/html": [
       "<div>\n",
       "<style scoped>\n",
       "    .dataframe tbody tr th:only-of-type {\n",
       "        vertical-align: middle;\n",
       "    }\n",
       "\n",
       "    .dataframe tbody tr th {\n",
       "        vertical-align: top;\n",
       "    }\n",
       "\n",
       "    .dataframe thead th {\n",
       "        text-align: right;\n",
       "    }\n",
       "</style>\n",
       "<table border=\"1\" class=\"dataframe\">\n",
       "  <thead>\n",
       "    <tr style=\"text-align: right;\">\n",
       "      <th></th>\n",
       "      <th>productId</th>\n",
       "      <th>rating_count</th>\n",
       "      <th>predicted_ratings</th>\n",
       "      <th>corrected_ratings</th>\n",
       "    </tr>\n",
       "  </thead>\n",
       "  <tbody>\n",
       "    <tr>\n",
       "      <th>0</th>\n",
       "      <td>504</td>\n",
       "      <td>17</td>\n",
       "      <td>5</td>\n",
       "      <td>4.757464</td>\n",
       "    </tr>\n",
       "    <tr>\n",
       "      <th>1</th>\n",
       "      <td>53</td>\n",
       "      <td>16</td>\n",
       "      <td>5</td>\n",
       "      <td>4.750000</td>\n",
       "    </tr>\n",
       "    <tr>\n",
       "      <th>2</th>\n",
       "      <td>579</td>\n",
       "      <td>13</td>\n",
       "      <td>5</td>\n",
       "      <td>4.722650</td>\n",
       "    </tr>\n",
       "    <tr>\n",
       "      <th>3</th>\n",
       "      <td>472</td>\n",
       "      <td>12</td>\n",
       "      <td>5</td>\n",
       "      <td>4.711325</td>\n",
       "    </tr>\n",
       "    <tr>\n",
       "      <th>4</th>\n",
       "      <td>121</td>\n",
       "      <td>10</td>\n",
       "      <td>5</td>\n",
       "      <td>4.683772</td>\n",
       "    </tr>\n",
       "  </tbody>\n",
       "</table>\n",
       "</div>"
      ],
      "text/plain": [
       "   productId  rating_count  predicted_ratings  corrected_ratings\n",
       "0        504            17                  5           4.757464\n",
       "1         53            16                  5           4.750000\n",
       "2        579            13                  5           4.722650\n",
       "3        472            12                  5           4.711325\n",
       "4        121            10                  5           4.683772"
      ]
     },
     "execution_count": 46,
     "metadata": {},
     "output_type": "execute_result"
    }
   ],
   "source": [
    "ranking_products(recommendations, final_rating)"
   ]
  },
  {
   "cell_type": "markdown",
   "id": "9f01cc27-acaa-4220-bf07-7614678ba098",
   "metadata": {},
   "source": [
    "## Model 3: Item based Collaborative Filtering Recommendation System"
   ]
  },
  {
   "cell_type": "code",
   "execution_count": 47,
   "id": "26b6ca18-d310-452b-8914-138bba80d954",
   "metadata": {},
   "outputs": [
    {
     "name": "stdout",
     "output_type": "stream",
     "text": [
      "RMSE: 1.0232\n",
      "Precision:  0.835\n",
      "Recall:  0.758\n",
      "F_1 score:  0.795\n"
     ]
    }
   ],
   "source": [
    "# Defining similarity measure\n",
    "sim_options = {'name': 'cosine',\n",
    "               'user_based': False}\n",
    "\n",
    "# Defining nearest neighbour algorithm\n",
    "algo_knn_item = KNNBasic(sim_options = sim_options,verbose = False)\n",
    "\n",
    "# Train the algorithm on the train set\n",
    "algo_knn_item.fit(trainset)\n",
    "\n",
    "# Let us compute precision@k, recall@k, and f_1 score with k=10\n",
    "precision_recall_at_k(algo_knn_item)"
   ]
  },
  {
   "cell_type": "code",
   "execution_count": 48,
   "id": "7b75571f-7800-440e-9d36-33d105d53913",
   "metadata": {},
   "outputs": [
    {
     "name": "stdout",
     "output_type": "stream",
     "text": [
      "user: 1310       item: 0          r_ui = 5.00   est = 4.29   {'was_impossible': True, 'reason': 'Not enough neighbors.'}\n"
     ]
    },
    {
     "data": {
      "text/plain": [
       "Prediction(uid=1310, iid=0, r_ui=5, est=4.291403190162572, details={'was_impossible': True, 'reason': 'Not enough neighbors.'})"
      ]
     },
     "execution_count": 48,
     "metadata": {},
     "output_type": "execute_result"
    }
   ],
   "source": [
    "algo_knn_item.predict(1310, 0, r_ui=5, verbose=True) #change this please "
   ]
  },
  {
   "cell_type": "code",
   "execution_count": 49,
   "id": "c46a5a4d-8ff7-408a-a7e5-448880e33aa5",
   "metadata": {},
   "outputs": [
    {
     "name": "stdout",
     "output_type": "stream",
     "text": [
      "Computing the msd similarity matrix...\n",
      "Done computing similarity matrix.\n",
      "Computing the msd similarity matrix...\n",
      "Done computing similarity matrix.\n",
      "Computing the msd similarity matrix...\n",
      "Done computing similarity matrix.\n",
      "Computing the cosine similarity matrix...\n",
      "Done computing similarity matrix.\n",
      "Computing the cosine similarity matrix...\n",
      "Done computing similarity matrix.\n",
      "Computing the cosine similarity matrix...\n",
      "Done computing similarity matrix.\n",
      "Computing the msd similarity matrix...\n",
      "Done computing similarity matrix.\n",
      "Computing the msd similarity matrix...\n",
      "Done computing similarity matrix.\n",
      "Computing the msd similarity matrix...\n",
      "Done computing similarity matrix.\n",
      "Computing the cosine similarity matrix...\n",
      "Done computing similarity matrix.\n",
      "Computing the cosine similarity matrix...\n",
      "Done computing similarity matrix.\n",
      "Computing the cosine similarity matrix...\n",
      "Done computing similarity matrix.\n",
      "Computing the msd similarity matrix...\n",
      "Done computing similarity matrix.\n",
      "Computing the msd similarity matrix...\n",
      "Done computing similarity matrix.\n",
      "Computing the msd similarity matrix...\n",
      "Done computing similarity matrix.\n",
      "Computing the cosine similarity matrix...\n",
      "Done computing similarity matrix.\n",
      "Computing the cosine similarity matrix...\n",
      "Done computing similarity matrix.\n",
      "Computing the cosine similarity matrix...\n",
      "Done computing similarity matrix.\n",
      "Computing the msd similarity matrix...\n",
      "Done computing similarity matrix.\n",
      "Computing the msd similarity matrix...\n",
      "Done computing similarity matrix.\n",
      "Computing the msd similarity matrix...\n",
      "Done computing similarity matrix.\n",
      "Computing the cosine similarity matrix...\n",
      "Done computing similarity matrix.\n",
      "Computing the cosine similarity matrix...\n",
      "Done computing similarity matrix.\n",
      "Computing the cosine similarity matrix...\n",
      "Done computing similarity matrix.\n",
      "Computing the msd similarity matrix...\n",
      "Done computing similarity matrix.\n",
      "Computing the msd similarity matrix...\n",
      "Done computing similarity matrix.\n",
      "Computing the msd similarity matrix...\n",
      "Done computing similarity matrix.\n",
      "Computing the cosine similarity matrix...\n",
      "Done computing similarity matrix.\n",
      "Computing the cosine similarity matrix...\n",
      "Done computing similarity matrix.\n",
      "Computing the cosine similarity matrix...\n",
      "Done computing similarity matrix.\n",
      "Computing the msd similarity matrix...\n",
      "Done computing similarity matrix.\n",
      "Computing the msd similarity matrix...\n",
      "Done computing similarity matrix.\n",
      "Computing the msd similarity matrix...\n",
      "Done computing similarity matrix.\n",
      "Computing the cosine similarity matrix...\n",
      "Done computing similarity matrix.\n",
      "Computing the cosine similarity matrix...\n",
      "Done computing similarity matrix.\n",
      "Computing the cosine similarity matrix...\n",
      "Done computing similarity matrix.\n",
      "Computing the msd similarity matrix...\n",
      "Done computing similarity matrix.\n",
      "Computing the msd similarity matrix...\n",
      "Done computing similarity matrix.\n",
      "Computing the msd similarity matrix...\n",
      "Done computing similarity matrix.\n",
      "Computing the cosine similarity matrix...\n",
      "Done computing similarity matrix.\n",
      "Computing the cosine similarity matrix...\n",
      "Done computing similarity matrix.\n",
      "Computing the cosine similarity matrix...\n",
      "Done computing similarity matrix.\n",
      "Computing the msd similarity matrix...\n",
      "Done computing similarity matrix.\n",
      "Computing the msd similarity matrix...\n",
      "Done computing similarity matrix.\n",
      "Computing the msd similarity matrix...\n",
      "Done computing similarity matrix.\n",
      "Computing the cosine similarity matrix...\n",
      "Done computing similarity matrix.\n",
      "Computing the cosine similarity matrix...\n",
      "Done computing similarity matrix.\n",
      "Computing the cosine similarity matrix...\n",
      "Done computing similarity matrix.\n",
      "Computing the msd similarity matrix...\n",
      "Done computing similarity matrix.\n",
      "Computing the msd similarity matrix...\n",
      "Done computing similarity matrix.\n",
      "Computing the msd similarity matrix...\n",
      "Done computing similarity matrix.\n",
      "Computing the cosine similarity matrix...\n",
      "Done computing similarity matrix.\n",
      "Computing the cosine similarity matrix...\n",
      "Done computing similarity matrix.\n",
      "Computing the cosine similarity matrix...\n",
      "Done computing similarity matrix.\n",
      "0.9756105421948438\n",
      "{'k': 30, 'min_k': 9, 'sim_options': {'name': 'msd', 'user_based': False}}\n"
     ]
    }
   ],
   "source": [
    "# Setting up parameter grid to tune the hyperparameters\n",
    "param_grid = {'k': [10,20,30], 'min_k': [3,6,9],\n",
    "              'sim_options': {'name': ['msd', 'cosine'],\n",
    "                              'user_based': [False]}\n",
    "              }\n",
    "\n",
    "# Performing 3-fold cross validation to tune the hyperparameters\n",
    "grid_obj = GridSearchCV(KNNBasic, param_grid, measures=['rmse', 'mae'], cv=3)\n",
    "\n",
    "# Fitting the data\n",
    "grid_obj.fit(data)\n",
    "\n",
    "# Best RMSE score\n",
    "print(grid_obj.best_score['rmse'])\n",
    "\n",
    "# Combination of parameters that gave the best RMSE score\n",
    "print(grid_obj.best_params['rmse'])"
   ]
  },
  {
   "cell_type": "code",
   "execution_count": 50,
   "id": "0a5f5b01-2891-41fb-bad1-c0b96d462b4a",
   "metadata": {},
   "outputs": [
    {
     "name": "stdout",
     "output_type": "stream",
     "text": [
      "RMSE: 0.9720\n",
      "Precision:  0.835\n",
      "Recall:  0.796\n",
      "F_1 score:  0.815\n"
     ]
    }
   ],
   "source": [
    "# Creating an instance of KNNBasic with optimal hyperparameter values\n",
    "similarity_algo_optimized_item = KNNBasic(\n",
    "    sim_options={'name': 'cosine', 'user_based': False}, \n",
    "    k=20, \n",
    "    min_k=6,\n",
    "    verbose=False\n",
    ")\n",
    "\n",
    "# Training the algorithm on the train set\n",
    "similarity_algo_optimized_item.fit(trainset)\n",
    "\n",
    "# Let us compute precision@k and recall@k with k=10\n",
    "precision_recall_at_k(similarity_algo_optimized_item)"
   ]
  },
  {
   "cell_type": "code",
   "execution_count": 51,
   "id": "89965c74-317c-4c49-b626-94fcdc66c7e0",
   "metadata": {},
   "outputs": [
    {
     "name": "stdout",
     "output_type": "stream",
     "text": [
      "user: 1310       item: 0          r_ui = 8.00   est = 4.29   {'was_impossible': True, 'reason': 'Not enough neighbors.'}\n"
     ]
    },
    {
     "data": {
      "text/plain": [
       "Prediction(uid=1310, iid=0, r_ui=8, est=4.291403190162572, details={'was_impossible': True, 'reason': 'Not enough neighbors.'})"
      ]
     },
     "execution_count": 51,
     "metadata": {},
     "output_type": "execute_result"
    }
   ],
   "source": [
    "similarity_algo_optimized_item.predict(1310, 0, r_ui=8, verbose=True)"
   ]
  },
  {
   "cell_type": "code",
   "execution_count": 52,
   "id": "17e84e7a-556f-49b5-9629-e6b9aec83f0e",
   "metadata": {},
   "outputs": [
    {
     "data": {
      "text/plain": [
       "[3, 7, 9, 17, 18]"
      ]
     },
     "execution_count": 52,
     "metadata": {},
     "output_type": "execute_result"
    }
   ],
   "source": [
    "similarity_algo_optimized_item.get_neighbors(1, k=5)"
   ]
  },
  {
   "cell_type": "code",
   "execution_count": 53,
   "id": "33314ef5-eb97-4e4d-a649-726137cd902c",
   "metadata": {},
   "outputs": [],
   "source": [
    "recommendations = get_recommendations(df_rating, 1, 5, similarity_algo_optimized_item)"
   ]
  },
  {
   "cell_type": "code",
   "execution_count": 54,
   "id": "750b7709-743d-4176-bc47-2f3f67049606",
   "metadata": {},
   "outputs": [
    {
     "data": {
      "text/html": [
       "<div>\n",
       "<style scoped>\n",
       "    .dataframe tbody tr th:only-of-type {\n",
       "        vertical-align: middle;\n",
       "    }\n",
       "\n",
       "    .dataframe tbody tr th {\n",
       "        vertical-align: top;\n",
       "    }\n",
       "\n",
       "    .dataframe thead th {\n",
       "        text-align: right;\n",
       "    }\n",
       "</style>\n",
       "<table border=\"1\" class=\"dataframe\">\n",
       "  <thead>\n",
       "    <tr style=\"text-align: right;\">\n",
       "      <th></th>\n",
       "      <th>productId</th>\n",
       "      <th>predicted_ratings</th>\n",
       "    </tr>\n",
       "  </thead>\n",
       "  <tbody>\n",
       "    <tr>\n",
       "      <th>0</th>\n",
       "      <td>2405</td>\n",
       "      <td>5.000000</td>\n",
       "    </tr>\n",
       "    <tr>\n",
       "      <th>1</th>\n",
       "      <td>2201</td>\n",
       "      <td>4.873062</td>\n",
       "    </tr>\n",
       "    <tr>\n",
       "      <th>2</th>\n",
       "      <td>2388</td>\n",
       "      <td>4.855346</td>\n",
       "    </tr>\n",
       "    <tr>\n",
       "      <th>3</th>\n",
       "      <td>1462</td>\n",
       "      <td>4.850000</td>\n",
       "    </tr>\n",
       "    <tr>\n",
       "      <th>4</th>\n",
       "      <td>4354</td>\n",
       "      <td>4.840522</td>\n",
       "    </tr>\n",
       "  </tbody>\n",
       "</table>\n",
       "</div>"
      ],
      "text/plain": [
       "   productId  predicted_ratings\n",
       "0       2405           5.000000\n",
       "1       2201           4.873062\n",
       "2       2388           4.855346\n",
       "3       1462           4.850000\n",
       "4       4354           4.840522"
      ]
     },
     "execution_count": 54,
     "metadata": {},
     "output_type": "execute_result"
    }
   ],
   "source": [
    "# Building the dataframe for above recommendations with columns \"book_id\" and \"predicted_ratings\"\n",
    "pd.DataFrame(recommendations, columns=['productId', 'predicted_ratings'])"
   ]
  },
  {
   "cell_type": "code",
   "execution_count": 55,
   "id": "4ee78541-e72e-4726-89c1-3408b113927f",
   "metadata": {},
   "outputs": [
    {
     "data": {
      "text/html": [
       "<div>\n",
       "<style scoped>\n",
       "    .dataframe tbody tr th:only-of-type {\n",
       "        vertical-align: middle;\n",
       "    }\n",
       "\n",
       "    .dataframe tbody tr th {\n",
       "        vertical-align: top;\n",
       "    }\n",
       "\n",
       "    .dataframe thead th {\n",
       "        text-align: right;\n",
       "    }\n",
       "</style>\n",
       "<table border=\"1\" class=\"dataframe\">\n",
       "  <thead>\n",
       "    <tr style=\"text-align: right;\">\n",
       "      <th></th>\n",
       "      <th>productId</th>\n",
       "      <th>rating_count</th>\n",
       "      <th>predicted_ratings</th>\n",
       "      <th>corrected_ratings</th>\n",
       "    </tr>\n",
       "  </thead>\n",
       "  <tbody>\n",
       "    <tr>\n",
       "      <th>2</th>\n",
       "      <td>2405</td>\n",
       "      <td>7</td>\n",
       "      <td>5.000000</td>\n",
       "      <td>4.622036</td>\n",
       "    </tr>\n",
       "    <tr>\n",
       "      <th>0</th>\n",
       "      <td>2388</td>\n",
       "      <td>10</td>\n",
       "      <td>4.855346</td>\n",
       "      <td>4.539118</td>\n",
       "    </tr>\n",
       "    <tr>\n",
       "      <th>1</th>\n",
       "      <td>2201</td>\n",
       "      <td>8</td>\n",
       "      <td>4.873062</td>\n",
       "      <td>4.519508</td>\n",
       "    </tr>\n",
       "    <tr>\n",
       "      <th>3</th>\n",
       "      <td>4354</td>\n",
       "      <td>7</td>\n",
       "      <td>4.840522</td>\n",
       "      <td>4.462558</td>\n",
       "    </tr>\n",
       "    <tr>\n",
       "      <th>4</th>\n",
       "      <td>1462</td>\n",
       "      <td>5</td>\n",
       "      <td>4.850000</td>\n",
       "      <td>4.402786</td>\n",
       "    </tr>\n",
       "  </tbody>\n",
       "</table>\n",
       "</div>"
      ],
      "text/plain": [
       "   productId  rating_count  predicted_ratings  corrected_ratings\n",
       "2       2405             7           5.000000           4.622036\n",
       "0       2388            10           4.855346           4.539118\n",
       "1       2201             8           4.873062           4.519508\n",
       "3       4354             7           4.840522           4.462558\n",
       "4       1462             5           4.850000           4.402786"
      ]
     },
     "execution_count": 55,
     "metadata": {},
     "output_type": "execute_result"
    }
   ],
   "source": [
    "# Applying the ranking_books function and sorting it based on corrected ratings\n",
    "ranking_products(recommendations, final_rating)"
   ]
  },
  {
   "cell_type": "markdown",
   "id": "0fa081e7-2cb8-4dc0-9108-e439a72d4736",
   "metadata": {},
   "source": [
    "## Model 4: Matrix Factorization"
   ]
  },
  {
   "cell_type": "code",
   "execution_count": 56,
   "id": "1c1fde5c-3a83-409c-8c32-d576f7b3da58",
   "metadata": {},
   "outputs": [
    {
     "name": "stdout",
     "output_type": "stream",
     "text": [
      "RMSE: 0.8989\n",
      "Precision:  0.86\n",
      "Recall:  0.797\n",
      "F_1 score:  0.827\n"
     ]
    }
   ],
   "source": [
    "# Using SVD matrix factorization\n",
    "svd = SVD(random_state=1)\n",
    "\n",
    "# Training the algorithm on the train set\n",
    "svd.fit(trainset)\n",
    "\n",
    "# Let us compute precision@k and recall@k with k=10\n",
    "precision_recall_at_k(svd)"
   ]
  },
  {
   "cell_type": "code",
   "execution_count": 57,
   "id": "0101af08-237e-477d-a62a-b4314d271ebb",
   "metadata": {},
   "outputs": [
    {
     "name": "stdout",
     "output_type": "stream",
     "text": [
      "user: 870        item: 5688       r_ui = 5.00   est = 4.69   {'was_impossible': False}\n"
     ]
    },
    {
     "data": {
      "text/plain": [
       "Prediction(uid=870, iid=5688, r_ui=5, est=4.687467361686603, details={'was_impossible': False})"
      ]
     },
     "execution_count": 57,
     "metadata": {},
     "output_type": "execute_result"
    }
   ],
   "source": [
    "# Making prediction for user_id 1326 and book_id 12126\n",
    "svd.predict(870, 5688, r_ui=5, verbose=True)"
   ]
  },
  {
   "cell_type": "markdown",
   "id": "eed6cfb1-a4b9-4ee4-af8b-9e5904129a2d",
   "metadata": {},
   "source": [
    "## Improving matrix factorization based recommendation system by tuning its hyperparameters"
   ]
  },
  {
   "cell_type": "code",
   "execution_count": 58,
   "id": "ba1ab3c2-bcd6-4204-91de-0c18180149e3",
   "metadata": {},
   "outputs": [
    {
     "name": "stdout",
     "output_type": "stream",
     "text": [
      "0.8988396833496871\n",
      "{'n_epochs': 20, 'lr_all': 0.01, 'reg_all': 0.4}\n"
     ]
    }
   ],
   "source": [
    "# Set the parameter space to tune\n",
    "param_grid = {\n",
    "    'n_epochs': [10, 20, 30], \n",
    "    'lr_all': [0.001, 0.005, 0.01],\n",
    "    'reg_all': [0.2, 0.4, 0.6]\n",
    "}\n",
    "\n",
    "# Performing 3-fold gridsearch cross validation\n",
    "gs_ = GridSearchCV(SVD, param_grid, measures=['rmse'], cv=3, n_jobs=-1)\n",
    "\n",
    "# Fitting data\n",
    "gs_.fit(data)\n",
    "\n",
    "# Best RMSE score\n",
    "print(gs_.best_score['rmse'])\n",
    "\n",
    "# Combination of parameters that gave the best RMSE score\n",
    "print(gs_.best_params['rmse'])"
   ]
  },
  {
   "cell_type": "code",
   "execution_count": 59,
   "id": "cd8bc28c-9de0-458c-8327-d10b48cc18fc",
   "metadata": {},
   "outputs": [
    {
     "name": "stdout",
     "output_type": "stream",
     "text": [
      "RMSE: 0.8906\n",
      "Precision:  0.861\n",
      "Recall:  0.799\n",
      "F_1 score:  0.829\n"
     ]
    }
   ],
   "source": [
    "# Building the optimized SVD model\n",
    "svd_optimized = SVD(n_epochs=30, lr_all=0.005, reg_all=0.2, random_state=1)\n",
    "\n",
    "# Training the algorithm on the train set\n",
    "svd_optimized=svd_optimized.fit(trainset)\n",
    "\n",
    "# Let us compute precision@k and recall@k with k=10\n",
    "precision_recall_at_k(svd_optimized)"
   ]
  },
  {
   "cell_type": "code",
   "execution_count": 60,
   "id": "e8c935fc-3bd6-401c-a9ef-afda740e06fb",
   "metadata": {},
   "outputs": [
    {
     "name": "stdout",
     "output_type": "stream",
     "text": [
      "user: 164        item: 0          r_ui = 1.00   est = 3.03   {'was_impossible': False}\n"
     ]
    },
    {
     "data": {
      "text/plain": [
       "Prediction(uid=164, iid=0, r_ui=1, est=3.028022695595122, details={'was_impossible': False})"
      ]
     },
     "execution_count": 60,
     "metadata": {},
     "output_type": "execute_result"
    }
   ],
   "source": [
    "# Making prediction for user_id 1326 and book_id 12126\n",
    "svd_optimized.predict(164, 0, r_ui=1, verbose=True)"
   ]
  },
  {
   "cell_type": "code",
   "execution_count": 61,
   "id": "779d7199-c83a-42dd-9d4c-5c78cc068f90",
   "metadata": {},
   "outputs": [],
   "source": [
    "# Getting top 5 recommendations for user_id 1 using \"svd_optimized\" algorithm\n",
    "svd_recommendations = get_recommendations(df_rating, 1, 5, svd_optimized)"
   ]
  },
  {
   "cell_type": "code",
   "execution_count": 62,
   "id": "95b8891f-fd6f-40ae-9f9e-e167e67f07f5",
   "metadata": {},
   "outputs": [
    {
     "data": {
      "text/html": [
       "<div>\n",
       "<style scoped>\n",
       "    .dataframe tbody tr th:only-of-type {\n",
       "        vertical-align: middle;\n",
       "    }\n",
       "\n",
       "    .dataframe tbody tr th {\n",
       "        vertical-align: top;\n",
       "    }\n",
       "\n",
       "    .dataframe thead th {\n",
       "        text-align: right;\n",
       "    }\n",
       "</style>\n",
       "<table border=\"1\" class=\"dataframe\">\n",
       "  <thead>\n",
       "    <tr style=\"text-align: right;\">\n",
       "      <th></th>\n",
       "      <th>productId</th>\n",
       "      <th>rating_count</th>\n",
       "      <th>predicted_ratings</th>\n",
       "      <th>corrected_ratings</th>\n",
       "    </tr>\n",
       "  </thead>\n",
       "  <tbody>\n",
       "    <tr>\n",
       "      <th>0</th>\n",
       "      <td>4886</td>\n",
       "      <td>45</td>\n",
       "      <td>4.580016</td>\n",
       "      <td>4.430945</td>\n",
       "    </tr>\n",
       "    <tr>\n",
       "      <th>2</th>\n",
       "      <td>2391</td>\n",
       "      <td>29</td>\n",
       "      <td>4.580954</td>\n",
       "      <td>4.395258</td>\n",
       "    </tr>\n",
       "    <tr>\n",
       "      <th>1</th>\n",
       "      <td>1548</td>\n",
       "      <td>31</td>\n",
       "      <td>4.500911</td>\n",
       "      <td>4.321306</td>\n",
       "    </tr>\n",
       "    <tr>\n",
       "      <th>3</th>\n",
       "      <td>2018</td>\n",
       "      <td>20</td>\n",
       "      <td>4.509858</td>\n",
       "      <td>4.286251</td>\n",
       "    </tr>\n",
       "    <tr>\n",
       "      <th>4</th>\n",
       "      <td>4580</td>\n",
       "      <td>11</td>\n",
       "      <td>4.544856</td>\n",
       "      <td>4.243344</td>\n",
       "    </tr>\n",
       "  </tbody>\n",
       "</table>\n",
       "</div>"
      ],
      "text/plain": [
       "   productId  rating_count  predicted_ratings  corrected_ratings\n",
       "0       4886            45           4.580016           4.430945\n",
       "2       2391            29           4.580954           4.395258\n",
       "1       1548            31           4.500911           4.321306\n",
       "3       2018            20           4.509858           4.286251\n",
       "4       4580            11           4.544856           4.243344"
      ]
     },
     "execution_count": 62,
     "metadata": {},
     "output_type": "execute_result"
    }
   ],
   "source": [
    "# Ranking book based on above recommendations\n",
    "ranking_products(svd_recommendations, final_rating)"
   ]
  },
  {
   "cell_type": "code",
   "execution_count": null,
   "id": "e9d352da-4eab-4c6a-8cac-a840db7adae6",
   "metadata": {},
   "outputs": [],
   "source": []
  }
 ],
 "metadata": {
  "kernelspec": {
   "display_name": "Python 3 (ipykernel)",
   "language": "python",
   "name": "python3"
  },
  "language_info": {
   "codemirror_mode": {
    "name": "ipython",
    "version": 3
   },
   "file_extension": ".py",
   "mimetype": "text/x-python",
   "name": "python",
   "nbconvert_exporter": "python",
   "pygments_lexer": "ipython3",
   "version": "3.12.7"
  }
 },
 "nbformat": 4,
 "nbformat_minor": 5
}
